{
 "cells": [
  {
   "cell_type": "markdown",
   "id": "16537b04-3cbe-442d-ad1d-93d5f09a0d5d",
   "metadata": {},
   "source": [
    "Sentence Segmentation \n",
    "\n",
    "in spacy basis "
   ]
  },
  {
   "cell_type": "code",
   "execution_count": 1,
   "id": "13c2e17f-7190-4cb9-b622-6c2b1c5d0a80",
   "metadata": {},
   "outputs": [],
   "source": [
    "#perform standard imports \n",
    "import spacy\n",
    "nlp = spacy.load('en_core_web_sm')"
   ]
  },
  {
   "cell_type": "code",
   "execution_count": 2,
   "id": "49441e7b-d87d-40b6-b364-a52f9998f2f9",
   "metadata": {},
   "outputs": [
    {
     "name": "stdout",
     "output_type": "stream",
     "text": [
      "This is the firstn= sentence.\n",
      "this is another sentence.\n",
      "this is the last sentence .\n"
     ]
    }
   ],
   "source": [
    "#from spacy basics:\n",
    "doc = nlp(u'This is the firstn= sentence. this is another sentence. this is the last sentence .')\n",
    "for sent in doc.sents:\n",
    "    print(sent)"
   ]
  },
  {
   "cell_type": "code",
   "execution_count": 3,
   "id": "9718157f-6c15-4850-a9bf-ae9548449f7e",
   "metadata": {},
   "outputs": [
    {
     "name": "stdout",
     "output_type": "stream",
     "text": [
      "is\n"
     ]
    }
   ],
   "source": [
    "print(doc[1])"
   ]
  },
  {
   "cell_type": "code",
   "execution_count": 4,
   "id": "256f5b94-aaa0-47a0-b263-dc5de4b58d37",
   "metadata": {},
   "outputs": [
    {
     "name": "stdout",
     "output_type": "stream",
     "text": [
      "this is another sentence.\n"
     ]
    }
   ],
   "source": [
    "sents = list(doc.sents)\n",
    "print(sents[1])\n"
   ]
  },
  {
   "cell_type": "code",
   "execution_count": 5,
   "id": "e1cab23c-18bf-4c87-a045-e0832ebab6f3",
   "metadata": {},
   "outputs": [
    {
     "data": {
      "text/plain": [
       "[This is the firstn= sentence.,\n",
       " this is another sentence.,\n",
       " this is the last sentence .]"
      ]
     },
     "execution_count": 5,
     "metadata": {},
     "output_type": "execute_result"
    }
   ],
   "source": [
    "doc_sent = [sent for sent in doc.sents]\n",
    "doc_sent"
   ]
  },
  {
   "cell_type": "markdown",
   "id": "94d38cf8-d721-46a9-957d-1b7b1e3f433e",
   "metadata": {},
   "source": [
    "sents and spans \n",
    "\n",
    "At first glance it looks each sent contains text from the original Doc object. in fact they're just Spans With start \n",
    "and end token pointers."
   ]
  },
  {
   "cell_type": "code",
   "execution_count": 6,
   "id": "a1b91dd5-6c1d-4330-b9c3-41af4a732f08",
   "metadata": {},
   "outputs": [
    {
     "data": {
      "text/plain": [
       "spacy.tokens.span.Span"
      ]
     },
     "execution_count": 6,
     "metadata": {},
     "output_type": "execute_result"
    }
   ],
   "source": [
    "type(doc_sent[1])"
   ]
  },
  {
   "cell_type": "code",
   "execution_count": 7,
   "id": "826a58b0-68b6-4a9e-aca3-122bca477ca5",
   "metadata": {},
   "outputs": [
    {
     "name": "stdout",
     "output_type": "stream",
     "text": [
      "6 11\n"
     ]
    }
   ],
   "source": [
    "print(doc_sent[1].start, doc_sent[1].end)"
   ]
  },
  {
   "cell_type": "markdown",
   "id": "4e67273a-c163-4c32-b5d8-93b5c8f874a0",
   "metadata": {},
   "source": [
    "Adding Rules "
   ]
  },
  {
   "cell_type": "markdown",
   "id": "a5081446-245e-4533-8437-bab2bcfe0a30",
   "metadata": {},
   "source": [
    "spacy"
   ]
  },
  {
   "cell_type": "code",
   "execution_count": 8,
   "id": "6ecbf8d1-a72d-4ddc-88d7-f9c3de1468be",
   "metadata": {},
   "outputs": [
    {
     "name": "stdout",
     "output_type": "stream",
     "text": [
      "True  This\n",
      "False  is\n",
      "False  a\n",
      "False  sentence\n",
      "False  .\n",
      "True  This\n",
      "False  is\n",
      "False  a\n",
      "False  sentence\n",
      "False  .\n",
      "True  This\n",
      "False  is\n",
      "False  a\n",
      "False  sentence\n",
      "False  .\n"
     ]
    }
   ],
   "source": [
    "doc2 = nlp(u'This is a sentence. This is a sentence. This is a sentence.')\n",
    "\n",
    "for token in doc2:\n",
    "    print(token.is_sent_start, ' '+token.text)"
   ]
  },
  {
   "cell_type": "code",
   "execution_count": 9,
   "id": "0a50f85f-3446-4c3c-9484-efc0c3bf2249",
   "metadata": {},
   "outputs": [
    {
     "name": "stdout",
     "output_type": "stream",
     "text": [
      "\"Management is doing things right; leadership is doing the right things.\"\n",
      "Peter Drucker\n"
     ]
    }
   ],
   "source": [
    "#SPACY'S DEFAULT BEHAVIOR\n",
    "doc3 = nlp(u'\"Management is doing things right; leadership is doing the right things.\" Peter Drucker')\n",
    "\n",
    "for sent in doc3.sents:\n",
    "    print(sent)"
   ]
  },
  {
   "cell_type": "code",
   "execution_count": 10,
   "id": "be223d18-3165-4b5e-ab49-3817a6c78919",
   "metadata": {},
   "outputs": [
    {
     "data": {
      "text/plain": [
       "<function __main__.set_custom_boundaries(doc)>"
      ]
     },
     "execution_count": 10,
     "metadata": {},
     "output_type": "execute_result"
    }
   ],
   "source": [
    "from spacy.language import Language\n",
    "\n",
    "@Language.component(\"set_custom_boundaries\")\n",
    "def set_custom_boundaries(doc):\n",
    "    # Custom logic for setting boundaries\n",
    "    for token in doc[:-1]:\n",
    "        if token.text == \".\":\n",
    "            doc[token.i + 1].is_sent_start = True\n",
    "    return doc\n",
    "\n",
    "nlp.add_pipe(\"set_custom_boundaries\", before=\"parser\")"
   ]
  },
  {
   "cell_type": "code",
   "execution_count": 11,
   "id": "b56d74dc-2e8c-4d76-9111-9fb8041b0510",
   "metadata": {},
   "outputs": [
    {
     "data": {
      "text/plain": [
       "<function __main__.set_custom_boundaries(doc)>"
      ]
     },
     "execution_count": 11,
     "metadata": {},
     "output_type": "execute_result"
    }
   ],
   "source": [
    "nlp.remove_pipe(\"set_custom_boundaries\")\n",
    "nlp.add_pipe(\"set_custom_boundaries\", before=\"parser\")"
   ]
  },
  {
   "cell_type": "code",
   "execution_count": 12,
   "id": "756e6629-589b-406b-8251-cc1c3811a900",
   "metadata": {},
   "outputs": [
    {
     "name": "stdout",
     "output_type": "stream",
     "text": [
      "'set_custom_boundaries' is already in the pipeline.\n"
     ]
    }
   ],
   "source": [
    "if \"set_custom_boundaries\" not in nlp.pipe_names:\n",
    "    nlp.add_pipe(\"set_custom_boundaries\", before=\"parser\")\n",
    "else:\n",
    "    print(\"'set_custom_boundaries' is already in the pipeline.\")"
   ]
  },
  {
   "cell_type": "code",
   "execution_count": 13,
   "id": "09c1084a-70bb-4514-abac-f11c8eef651a",
   "metadata": {},
   "outputs": [
    {
     "name": "stdout",
     "output_type": "stream",
     "text": [
      "['tok2vec', 'tagger', 'set_custom_boundaries', 'parser', 'attribute_ruler', 'lemmatizer', 'ner']\n"
     ]
    }
   ],
   "source": [
    "print(nlp.pipe_names)"
   ]
  },
  {
   "cell_type": "code",
   "execution_count": null,
   "id": "fe1a1a56-9c5f-4c63-aca5-dd320d84b09d",
   "metadata": {},
   "outputs": [],
   "source": []
  }
 ],
 "metadata": {
  "kernelspec": {
   "display_name": "Python 3 (ipykernel)",
   "language": "python",
   "name": "python3"
  },
  "language_info": {
   "codemirror_mode": {
    "name": "ipython",
    "version": 3
   },
   "file_extension": ".py",
   "mimetype": "text/x-python",
   "name": "python",
   "nbconvert_exporter": "python",
   "pygments_lexer": "ipython3",
   "version": "3.12.9"
  }
 },
 "nbformat": 4,
 "nbformat_minor": 5
}
