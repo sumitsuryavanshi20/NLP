{
 "cells": [
  {
   "cell_type": "code",
   "execution_count": 4,
   "id": "e7f2bc34-a3be-43ac-bb1a-601ffa971ccf",
   "metadata": {},
   "outputs": [],
   "source": [
    "text = \"The agent's phone number is 408-555-1234. Call soon!\""
   ]
  },
  {
   "cell_type": "code",
   "execution_count": 5,
   "id": "d934072e-6a46-4dae-9bfc-1d9818cfa0e8",
   "metadata": {},
   "outputs": [
    {
     "data": {
      "text/plain": [
       "True"
      ]
     },
     "execution_count": 5,
     "metadata": {},
     "output_type": "execute_result"
    }
   ],
   "source": [
    "'phone' in text"
   ]
  },
  {
   "cell_type": "code",
   "execution_count": 6,
   "id": "0add0bc3-956e-4a6f-83e0-2b155ddf56dd",
   "metadata": {},
   "outputs": [],
   "source": [
    "import re #re is regular expression"
   ]
  },
  {
   "cell_type": "code",
   "execution_count": 7,
   "id": "1bd14bff-eb1f-4e59-b0d2-37dab09d2654",
   "metadata": {},
   "outputs": [],
   "source": [
    "pattern = 'phone'"
   ]
  },
  {
   "cell_type": "code",
   "execution_count": 8,
   "id": "dea018a1-60bc-47a4-a45a-5c5f95fd1f8c",
   "metadata": {},
   "outputs": [
    {
     "data": {
      "text/plain": [
       "<re.Match object; span=(12, 17), match='phone'>"
      ]
     },
     "execution_count": 8,
     "metadata": {},
     "output_type": "execute_result"
    }
   ],
   "source": [
    "re.search(pattern,text)"
   ]
  },
  {
   "cell_type": "code",
   "execution_count": 9,
   "id": "5d2b6ece-3fc7-440f-9c87-fd8eb06b0839",
   "metadata": {},
   "outputs": [],
   "source": [
    "pattern = \"NOT IN TEXT\""
   ]
  },
  {
   "cell_type": "code",
   "execution_count": 10,
   "id": "1f73f2d4-d013-4d5f-b52a-5eec47e96eb8",
   "metadata": {},
   "outputs": [],
   "source": [
    "re.search(pattern,text)"
   ]
  },
  {
   "cell_type": "code",
   "execution_count": 11,
   "id": "d3a2f669-04d5-495c-8770-3df173619a08",
   "metadata": {},
   "outputs": [],
   "source": [
    "pattern = 'phone'"
   ]
  },
  {
   "cell_type": "code",
   "execution_count": 12,
   "id": "75db8587-4117-43f5-a488-e6f9a3a7d564",
   "metadata": {},
   "outputs": [],
   "source": [
    "match = re.search(pattern,text)"
   ]
  },
  {
   "cell_type": "code",
   "execution_count": 13,
   "id": "c81a8078-2b10-4e2b-8540-ea7c237b3c4a",
   "metadata": {},
   "outputs": [],
   "source": [
    "#Match object"
   ]
  },
  {
   "cell_type": "code",
   "execution_count": 14,
   "id": "92463926-ac83-4018-8d9d-6a3525b0cacf",
   "metadata": {},
   "outputs": [
    {
     "data": {
      "text/plain": [
       "<re.Match object; span=(12, 17), match='phone'>"
      ]
     },
     "execution_count": 14,
     "metadata": {},
     "output_type": "execute_result"
    }
   ],
   "source": [
    "match"
   ]
  },
  {
   "cell_type": "code",
   "execution_count": 15,
   "id": "70a5cb9f-b5fa-4bae-ba3c-20f0a076ab56",
   "metadata": {},
   "outputs": [
    {
     "data": {
      "text/plain": [
       "(12, 17)"
      ]
     },
     "execution_count": 15,
     "metadata": {},
     "output_type": "execute_result"
    }
   ],
   "source": [
    "match.span()"
   ]
  },
  {
   "cell_type": "code",
   "execution_count": 16,
   "id": "b005b0a8-caa4-4203-904e-4387aff92745",
   "metadata": {},
   "outputs": [
    {
     "data": {
      "text/plain": [
       "12"
      ]
     },
     "execution_count": 16,
     "metadata": {},
     "output_type": "execute_result"
    }
   ],
   "source": [
    "match.start()"
   ]
  },
  {
   "cell_type": "markdown",
   "id": "e9b522e2-70ba-47da-811d-de55f78c4af0",
   "metadata": {},
   "source": [
    "Pattern"
   ]
  },
  {
   "cell_type": "code",
   "execution_count": 18,
   "id": "a00d518d-512d-49ae-b52f-3b738b6a37fd",
   "metadata": {},
   "outputs": [],
   "source": [
    "text = \"My telephone number is 408-555-1234\""
   ]
  },
  {
   "cell_type": "code",
   "execution_count": 19,
   "id": "c9917b47-40a6-48a1-862e-255b69d1dcf8",
   "metadata": {},
   "outputs": [
    {
     "ename": "SyntaxError",
     "evalue": "unterminated string literal (detected at line 1) (2872018445.py, line 1)",
     "output_type": "error",
     "traceback": [
      "\u001b[1;36m  Cell \u001b[1;32mIn[19], line 1\u001b[1;36m\u001b[0m\n\u001b[1;33m    phone = re.search(r'\\d\\d\\d-\\d\\d\\d\u001b[0m\n\u001b[1;37m                      ^\u001b[0m\n\u001b[1;31mSyntaxError\u001b[0m\u001b[1;31m:\u001b[0m unterminated string literal (detected at line 1)\n"
     ]
    }
   ],
   "source": [
    "phone = re.search(r'\\d\\d\\d-\\d\\d\\d"
   ]
  },
  {
   "cell_type": "markdown",
   "id": "1032df3e-45d3-488f-8e01-8ea851661fe2",
   "metadata": {},
   "source": [
    "Groups"
   ]
  },
  {
   "cell_type": "code",
   "execution_count": null,
   "id": "52f67d2d-730c-44e5-97e1-6445d568d151",
   "metadata": {},
   "outputs": [],
   "source": [
    "phone_pattern = re.compile(r'(\\d{3})-(\\d{3})-(\\d{4})')"
   ]
  },
  {
   "cell_type": "code",
   "execution_count": null,
   "id": "d20d61e2-58d6-4960-84e9-40353927fe1c",
   "metadata": {},
   "outputs": [],
   "source": [
    "results = re.search(phone_pattern,text)"
   ]
  },
  {
   "cell_type": "code",
   "execution_count": null,
   "id": "6cc54aa5-0c26-4944-b7cf-0d05fb5560c3",
   "metadata": {},
   "outputs": [],
   "source": [
    "#the entire result\n",
    "results.group()"
   ]
  },
  {
   "cell_type": "code",
   "execution_count": null,
   "id": "868f7f8e-ae59-4d99-80b9-e8f8f69413d0",
   "metadata": {},
   "outputs": [],
   "source": [
    "results.group(1)"
   ]
  },
  {
   "cell_type": "code",
   "execution_count": null,
   "id": "43108cc7-bf0a-49fb-ab10-cab68b327461",
   "metadata": {},
   "outputs": [],
   "source": [
    "results.group(2)"
   ]
  },
  {
   "cell_type": "code",
   "execution_count": null,
   "id": "f0f004b8-9093-4976-b38e-bcef47575bac",
   "metadata": {},
   "outputs": [],
   "source": [
    "## OR operator /"
   ]
  },
  {
   "cell_type": "code",
   "execution_count": null,
   "id": "8b5aac36-3914-44be-9f62-ada869cb4001",
   "metadata": {},
   "outputs": [],
   "source": [
    "re.search(r\"man|women\",\"This man was here.\")"
   ]
  },
  {
   "cell_type": "code",
   "execution_count": null,
   "id": "8d7689b5-b7f4-4734-a839-fbc50a58da89",
   "metadata": {},
   "outputs": [],
   "source": [
    "re.search(r\"man|women\",\"This women was here.\")"
   ]
  },
  {
   "cell_type": "markdown",
   "id": "57b06653-1c17-4f55-9e43-0bf648ec8f88",
   "metadata": {},
   "source": [
    "The Wildcard Character"
   ]
  },
  {
   "cell_type": "code",
   "execution_count": null,
   "id": "8d978e48-421d-4aee-969b-907e48aaabbf",
   "metadata": {},
   "outputs": [],
   "source": [
    "re.findall(r\".at\",\"The cat in the hat sat here.\")"
   ]
  },
  {
   "cell_type": "code",
   "execution_count": null,
   "id": "a3164b3c-e68e-4d21-93d0-f4490a723090",
   "metadata": {},
   "outputs": [],
   "source": [
    "re.findall(r\".at\",\"The bat went splat\")"
   ]
  },
  {
   "cell_type": "code",
   "execution_count": null,
   "id": "74063624-6525-483e-93b4-5c6eee554b84",
   "metadata": {},
   "outputs": [],
   "source": [
    "re.findall(r\"...at\",\"The bat went splat\")"
   ]
  },
  {
   "cell_type": "code",
   "execution_count": null,
   "id": "16f1d0bd-7635-4c52-b8d8-6dc323922906",
   "metadata": {},
   "outputs": [],
   "source": [
    "#onw or more non-whitespace that ends with 'at'\n",
    "re.findall(r'\\S+at',\"The bat went splat\")"
   ]
  },
  {
   "cell_type": "markdown",
   "id": "6ee82507-9446-4007-bbc3-e4d63a755b17",
   "metadata": {},
   "source": [
    "Starts with the end with"
   ]
  },
  {
   "cell_type": "code",
   "execution_count": null,
   "id": "4f74c766-786d-4114-bf6f-bd3ab3042900",
   "metadata": {},
   "outputs": [],
   "source": [
    "re.findall(r'\\d$','This ends with a number 2')"
   ]
  },
  {
   "cell_type": "code",
   "execution_count": null,
   "id": "a44f1d16-0271-4d8e-83d1-5d7f232d21af",
   "metadata": {},
   "outputs": [],
   "source": [
    "re.findall(r'^\\d','1 is the lonelist number.')"
   ]
  },
  {
   "cell_type": "markdown",
   "id": "48d5f138-a5b8-4bff-89bb-d7c703357d84",
   "metadata": {},
   "source": [
    "Exclusion \n",
    "To exclude characters, we can use the ^ symbol in conjuction with a set of brackets []. Anything inside the brackets is excluded."
   ]
  },
  {
   "cell_type": "code",
   "execution_count": 33,
   "id": "38369086-3231-4c93-9290-36abd793d565",
   "metadata": {},
   "outputs": [],
   "source": [
    "phrase = \"there are 3 number 34 inside 5 this sentence.\""
   ]
  },
  {
   "cell_type": "code",
   "execution_count": 35,
   "id": "2fcfca4f-6261-487b-9d49-3f4749d04609",
   "metadata": {},
   "outputs": [
    {
     "data": {
      "text/plain": [
       "['t',\n",
       " 'h',\n",
       " 'e',\n",
       " 'r',\n",
       " 'e',\n",
       " ' ',\n",
       " 'a',\n",
       " 'r',\n",
       " 'e',\n",
       " ' ',\n",
       " ' ',\n",
       " 'n',\n",
       " 'u',\n",
       " 'm',\n",
       " 'b',\n",
       " 'e',\n",
       " 'r',\n",
       " ' ',\n",
       " ' ',\n",
       " 'i',\n",
       " 'n',\n",
       " 's',\n",
       " 'i',\n",
       " 'd',\n",
       " 'e',\n",
       " ' ',\n",
       " ' ',\n",
       " 't',\n",
       " 'h',\n",
       " 'i',\n",
       " 's',\n",
       " ' ',\n",
       " 's',\n",
       " 'e',\n",
       " 'n',\n",
       " 't',\n",
       " 'e',\n",
       " 'n',\n",
       " 'c',\n",
       " 'e',\n",
       " '.']"
      ]
     },
     "execution_count": 35,
     "metadata": {},
     "output_type": "execute_result"
    }
   ],
   "source": [
    "re.findall(r'[^\\d]',phrase)"
   ]
  },
  {
   "cell_type": "markdown",
   "id": "7353d050-6bf8-4860-83e6-d02cffb73284",
   "metadata": {},
   "source": [
    "To get the words back together use a + sign"
   ]
  },
  {
   "cell_type": "code",
   "execution_count": 41,
   "id": "dcd98a40-daf3-4c67-a861-ecbb72bbfc83",
   "metadata": {},
   "outputs": [
    {
     "data": {
      "text/plain": [
       "['there are ', ' number ', ' inside ', ' this sentence.']"
      ]
     },
     "execution_count": 41,
     "metadata": {},
     "output_type": "execute_result"
    }
   ],
   "source": [
    "re.findall(r'[^\\d]+',phrase)"
   ]
  },
  {
   "cell_type": "markdown",
   "id": "efa5e2ea-e21e-4efc-998e-3c1c4d6b8fbd",
   "metadata": {},
   "source": [
    "We can use this to remove punctuation from a sentence "
   ]
  },
  {
   "cell_type": "code",
   "execution_count": 47,
   "id": "f1024fca-da75-46f1-93f4-42780215f1f3",
   "metadata": {},
   "outputs": [],
   "source": [
    "test_phrase = 'This is a string! But it has punctuation. How can we remove it ?'"
   ]
  },
  {
   "cell_type": "code",
   "execution_count": 55,
   "id": "147ffa23-0d70-45a1-aac5-61b50f905fd2",
   "metadata": {},
   "outputs": [
    {
     "data": {
      "text/plain": [
       "['This',\n",
       " 'is',\n",
       " 'a',\n",
       " 'string',\n",
       " 'But',\n",
       " 'it',\n",
       " 'has',\n",
       " 'punctuation',\n",
       " 'How',\n",
       " 'can',\n",
       " 'we',\n",
       " 'remove',\n",
       " 'it']"
      ]
     },
     "execution_count": 55,
     "metadata": {},
     "output_type": "execute_result"
    }
   ],
   "source": [
    "re.findall('[^!.? ]+',test_phrase)"
   ]
  },
  {
   "cell_type": "code",
   "execution_count": 59,
   "id": "9297d9ee-fc4f-4658-bf86-624c2ab91c5b",
   "metadata": {},
   "outputs": [
    {
     "data": {
      "text/plain": [
       "'This is a string But it has punctuation How can we remove it'"
      ]
     },
     "execution_count": 59,
     "metadata": {},
     "output_type": "execute_result"
    }
   ],
   "source": [
    "clean = ' '. join(re.findall('[^!.? ]+',test_phrase))\n",
    "clean"
   ]
  },
  {
   "cell_type": "markdown",
   "id": "0c5c1d45-0729-435c-9edf-c7494ed785dc",
   "metadata": {},
   "source": [
    "Brackets for grouping "
   ]
  },
  {
   "cell_type": "code",
   "execution_count": 74,
   "id": "4d905fb8-c793-4465-a8b0-509c781d622e",
   "metadata": {},
   "outputs": [],
   "source": [
    "text = 'Only this the hypen-words in this sentence. but you do not know how long-ish they are'"
   ]
  },
  {
   "cell_type": "code",
   "execution_count": 78,
   "id": "80bcef36-6779-4c41-a9b9-725ee922eaf7",
   "metadata": {},
   "outputs": [
    {
     "data": {
      "text/plain": [
       "['hypen-words', 'long-ish']"
      ]
     },
     "execution_count": 78,
     "metadata": {},
     "output_type": "execute_result"
    }
   ],
   "source": [
    "re.findall(r'[\\w]+-[\\w]+',text)"
   ]
  },
  {
   "cell_type": "markdown",
   "id": "7387a635-ca7a-4cf9-9655-be93cd88dc40",
   "metadata": {},
   "source": [
    "Parentheses for multiple options\n",
    "If we have multiple option for matching we can use parentheses to list out these options. for example:"
   ]
  },
  {
   "cell_type": "code",
   "execution_count": 89,
   "id": "4b440c56-4835-42ab-afa4-c3b4d987937c",
   "metadata": {},
   "outputs": [],
   "source": [
    "#find words that start with cat and end with one of these options: 'fish','nap',or 'claw'\n",
    "text = 'Hello, would you like some catfish?'\n",
    "texttwo = \"Hello, would you like to take a catnap?\"\n",
    "textthree = \"Hello, have you seen this caterpillar?\""
   ]
  },
  {
   "cell_type": "code",
   "execution_count": 93,
   "id": "29319dbc-40c5-4ba4-bfe7-7547caf1da8d",
   "metadata": {},
   "outputs": [
    {
     "data": {
      "text/plain": [
       "<re.Match object; span=(27, 34), match='catfish'>"
      ]
     },
     "execution_count": 93,
     "metadata": {},
     "output_type": "execute_result"
    }
   ],
   "source": [
    "re.search(r'cat(fish|nap|claw)',text)"
   ]
  },
  {
   "cell_type": "code",
   "execution_count": 95,
   "id": "b21984b8-80d7-4c75-a788-28affb2ec1b6",
   "metadata": {},
   "outputs": [
    {
     "data": {
      "text/plain": [
       "<re.Match object; span=(32, 38), match='catnap'>"
      ]
     },
     "execution_count": 95,
     "metadata": {},
     "output_type": "execute_result"
    }
   ],
   "source": [
    "re.search(r'cat(fish|nap|claw)',texttwo)"
   ]
  },
  {
   "cell_type": "code",
   "execution_count": 97,
   "id": "ffdf9e17-9370-4a56-9c91-1c8d3c590ab1",
   "metadata": {},
   "outputs": [
    {
     "data": {
      "text/plain": [
       "<re.Match object; span=(26, 37), match='caterpillar'>"
      ]
     },
     "execution_count": 97,
     "metadata": {},
     "output_type": "execute_result"
    }
   ],
   "source": [
    "re.search(r'cat(fish|erpillar|claw)',textthree)"
   ]
  },
  {
   "cell_type": "code",
   "execution_count": null,
   "id": "37f4e491-87c5-4c71-80dc-ec9788a5210a",
   "metadata": {},
   "outputs": [],
   "source": []
  }
 ],
 "metadata": {
  "kernelspec": {
   "display_name": "Python 3 (ipykernel)",
   "language": "python",
   "name": "python3"
  },
  "language_info": {
   "codemirror_mode": {
    "name": "ipython",
    "version": 3
   },
   "file_extension": ".py",
   "mimetype": "text/x-python",
   "name": "python",
   "nbconvert_exporter": "python",
   "pygments_lexer": "ipython3",
   "version": "3.12.9"
  }
 },
 "nbformat": 4,
 "nbformat_minor": 5
}
