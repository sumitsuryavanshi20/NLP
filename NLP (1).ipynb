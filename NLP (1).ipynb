{
 "cells": [
  {
   "cell_type": "code",
   "execution_count": 4,
   "id": "aa87c066-3fb0-4eec-8b4c-6baebd691697",
   "metadata": {},
   "outputs": [
    {
     "name": "stdout",
     "output_type": "stream",
     "text": [
      "His name is Fred.\n",
      "His name is Fred\n"
     ]
    }
   ],
   "source": [
    "name = \"Fred\"\n",
    "\n",
    "#using the old .format() method:\n",
    "print('His name is {var}.'.format(var=name))\n",
    "\n",
    "#using f - strings:\n",
    "print(f'His name is {name}')"
   ]
  },
  {
   "cell_type": "code",
   "execution_count": 5,
   "id": "0c0756c3-ded6-4183-922a-6fe20027d5e9",
   "metadata": {},
   "outputs": [
    {
     "name": "stdout",
     "output_type": "stream",
     "text": [
      "Main street 123.\n",
      "Main street 456.\n"
     ]
    }
   ],
   "source": [
    "Address = 123\n",
    "\n",
    "print('Main street {var}.'.format(var=Address))\n",
    "\n",
    "Address = 456\n",
    "\n",
    "print(\"Main street {var}.\".format(var=Address))"
   ]
  },
  {
   "cell_type": "code",
   "execution_count": 8,
   "id": "ea121a2f-9073-43d1-845b-d5c2acc30fe8",
   "metadata": {},
   "outputs": [
    {
     "name": "stdout",
     "output_type": "stream",
     "text": [
      "123 main street\n"
     ]
    }
   ],
   "source": [
    "d = {\"a\": \"123\"}\n",
    "print(f'{d[\"a\"]} main street')\n"
   ]
  },
  {
   "cell_type": "code",
   "execution_count": null,
   "id": "47369567-76df-4584-ae63-549eee3377a0",
   "metadata": {},
   "outputs": [],
   "source": [
    "library = [(\"Author\",\"Topic\",\"Pages\"),(\"Twain\",\"Rafting\",601),(\"Feynman\",\"Physics\",95),(\"Hamilton\",\"Mythology\",144)]\n",
    "for book in library:\n",
    "    print(f\"{book[0]:{10}} {book[1]:{8}} {book[2]:{7}}\")"
   ]
  },
  {
   "cell_type": "code",
   "execution_count": null,
   "id": "c208b137-6756-4239-904a-f999d69fd462",
   "metadata": {},
   "outputs": [],
   "source": [
    "library = [(\"Author\",\"Topic\",\"Pages\"),(\"Twain\",\"Rafting\",601),(\"Feynman\",\"Physics\",95),(\"Hamilton\",\"Mythology\",144)]\n",
    "for book in library:\n",
    "    print(f\"{book[0]:{10}} {book[1]:{8}} {book[2]:.>{7}}\")"
   ]
  },
  {
   "cell_type": "code",
   "execution_count": null,
   "id": "290c2b85-6270-4aca-99af-9c865ca840af",
   "metadata": {},
   "outputs": [],
   "source": [
    "from datetime import datetime\n",
    "today = datetime(year = 2018, month=1,day=27)\n",
    "print(f'{today:%B %d, %Y}')"
   ]
  },
  {
   "cell_type": "code",
   "execution_count": null,
   "id": "aaf8d393-995a-472e-9251-1ec9cd837f5a",
   "metadata": {},
   "outputs": [],
   "source": [
    "%%writefile test.text\n",
    "Hello, this is a quick test file.\n",
    "This is the second line of the file."
   ]
  },
  {
   "cell_type": "code",
   "execution_count": null,
   "id": "848d21f4-7aae-4bb9-a954-32310f753249",
   "metadata": {},
   "outputs": [],
   "source": [
    "%%writefile test.text\n",
    "Hello, how are you?"
   ]
  },
  {
   "cell_type": "code",
   "execution_count": null,
   "id": "1559bae9-555b-4506-b7d9-8dcc93aea98c",
   "metadata": {},
   "outputs": [],
   "source": [
    "#open the text.txt file we created earlier \n",
    "my_file = open(\"test.text\")\n",
    "my_file.read()"
   ]
  },
  {
   "cell_type": "code",
   "execution_count": null,
   "id": "7593aecc-a6fd-4b27-81d8-f0f74761cc66",
   "metadata": {},
   "outputs": [],
   "source": [
    "my_file.read()"
   ]
  },
  {
   "cell_type": "code",
   "execution_count": null,
   "id": "58e89629-8f24-4365-b72c-6ebd80b101b6",
   "metadata": {},
   "outputs": [],
   "source": [
    "my_file.read()"
   ]
  },
  {
   "cell_type": "code",
   "execution_count": null,
   "id": "01d542a2-7f82-4821-8545-bc0eaf725e90",
   "metadata": {},
   "outputs": [],
   "source": [
    "my_file.seek(0)"
   ]
  },
  {
   "cell_type": "markdown",
   "id": "e325a3d8-125e-4a9b-a572-84850318bc6b",
   "metadata": {},
   "source": [
    "Readlines() \n",
    "you can read line by line using the readlines method. Use Caution with large files, since everything will be held in memory. we will learn how to iterate\n",
    "over large files later in the cours "
   ]
  },
  {
   "cell_type": "code",
   "execution_count": null,
   "id": "51215a64-e679-47ac-8d7c-b5883b2c10b7",
   "metadata": {},
   "outputs": [],
   "source": [
    "my_file.seek(0)"
   ]
  },
  {
   "cell_type": "code",
   "execution_count": null,
   "id": "353b819c-1c15-45be-81ba-02f910bc73ce",
   "metadata": {},
   "outputs": [],
   "source": [
    "my_file.readlines()"
   ]
  },
  {
   "cell_type": "code",
   "execution_count": null,
   "id": "7d662ce8-535f-451e-85b3-b38f84ac6304",
   "metadata": {},
   "outputs": [],
   "source": [
    "my_file.close()"
   ]
  },
  {
   "cell_type": "markdown",
   "id": "cc4744c1-69d0-4efb-be6c-75c61a0a2045",
   "metadata": {},
   "source": [
    "Writing to a file \n",
    "By default, the open() function will only allow us to read the file. we need to pass the argument 'w' to write over the file. for example:"
   ]
  },
  {
   "cell_type": "code",
   "execution_count": null,
   "id": "1abb0a01-cd62-464b-b408-76cb993df412",
   "metadata": {},
   "outputs": [],
   "source": [
    "# add a second argumnet to the function, 'w' which stand for write.\n",
    "# Passing 'w+' lets us read and write to the file.\n",
    "my_file = open('test.text','w+')"
   ]
  },
  {
   "cell_type": "code",
   "execution_count": null,
   "id": "8321d5f1-68a9-47b8-9705-561e2301215c",
   "metadata": {},
   "outputs": [],
   "source": [
    "#Write to the file \n",
    "my_file.write('This is a new first line')"
   ]
  },
  {
   "cell_type": "code",
   "execution_count": null,
   "id": "f61ef8bf-cb02-47f2-a8e5-e189cbd8adfa",
   "metadata": {},
   "outputs": [],
   "source": [
    "#Read the file \n",
    "my_file.seek(0)\n",
    "my_file.read()"
   ]
  },
  {
   "cell_type": "code",
   "execution_count": null,
   "id": "a0243d1e-bcb5-4283-a131-86b7ffca9017",
   "metadata": {},
   "outputs": [],
   "source": [
    "my_file.close() # Always do this when you are done with a file "
   ]
  },
  {
   "cell_type": "code",
   "execution_count": null,
   "id": "5c984ace-af52-4432-ac26-7492b134b722",
   "metadata": {},
   "outputs": [],
   "source": [
    "my_file = open('test.text','a+')\n",
    "my_file.write('/nThis line is being appended to test.text')\n",
    "my_file.write('/nAnd another line here.')"
   ]
  },
  {
   "cell_type": "code",
   "execution_count": null,
   "id": "8ba67133-4bc7-44c2-9081-7be44b8233ea",
   "metadata": {},
   "outputs": [],
   "source": [
    "my_file.seek(0)\n",
    "print(my_file.read())"
   ]
  },
  {
   "cell_type": "code",
   "execution_count": null,
   "id": "45f781a1-6571-4305-aac2-f7043c71ad48",
   "metadata": {},
   "outputs": [],
   "source": [
    "my_file.close()"
   ]
  },
  {
   "cell_type": "markdown",
   "id": "217c0f21-7cef-4a13-a4a8-9c20c2003616",
   "metadata": {},
   "source": [
    "Aliases and context managers\n",
    "You can assign temporary variable names as aliases, and manage the opening and closing of files automatically usinga context manager:"
   ]
  },
  {
   "cell_type": "code",
   "execution_count": null,
   "id": "9932024c-911f-4706-bec8-ec4aa8027daf",
   "metadata": {},
   "outputs": [],
   "source": [
    "with open ('test.text','r') as txt:\n",
    "    first_line = txt.readlines()[0]\n",
    "\n",
    "print(first_line)"
   ]
  },
  {
   "cell_type": "markdown",
   "id": "369d806d-03aa-4556-97a3-364a155b558b",
   "metadata": {},
   "source": [
    "Iterating through a file "
   ]
  },
  {
   "cell_type": "code",
   "execution_count": null,
   "id": "e1c1fe24-4be2-493c-bba6-98746168c2a8",
   "metadata": {},
   "outputs": [],
   "source": [
    "with open ('test.text','r') as txt:\n",
    "    for line in txt:\n",
    "        print(line, end=\"\")#the end = \"\" argument removes extra line breaks"
   ]
  },
  {
   "cell_type": "code",
   "execution_count": null,
   "id": "9ba47540-4008-4f15-a523-7f89277930b0",
   "metadata": {},
   "outputs": [],
   "source": []
  }
 ],
 "metadata": {
  "kernelspec": {
   "display_name": "Python 3 (ipykernel)",
   "language": "python",
   "name": "python3"
  },
  "language_info": {
   "codemirror_mode": {
    "name": "ipython",
    "version": 3
   },
   "file_extension": ".py",
   "mimetype": "text/x-python",
   "name": "python",
   "nbconvert_exporter": "python",
   "pygments_lexer": "ipython3",
   "version": "3.12.9"
  }
 },
 "nbformat": 4,
 "nbformat_minor": 5
}
