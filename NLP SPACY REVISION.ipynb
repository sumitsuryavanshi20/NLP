{
 "cells": [
  {
   "cell_type": "markdown",
   "id": "40e18697-6f24-44b4-a825-db21a6419a59",
   "metadata": {},
   "source": [
    "SPACY"
   ]
  },
  {
   "cell_type": "code",
   "execution_count": 26,
   "id": "62d8b329-648d-4d6c-9f9f-3319fed3216e",
   "metadata": {},
   "outputs": [],
   "source": [
    "import spacy"
   ]
  },
  {
   "cell_type": "code",
   "execution_count": 27,
   "id": "3496aba0-afde-40cb-a558-cc64bcca48f3",
   "metadata": {},
   "outputs": [],
   "source": [
    "nlp = spacy.load(\"en_core_web_sm\")"
   ]
  },
  {
   "cell_type": "code",
   "execution_count": 28,
   "id": "fb0329cf-449f-48c2-b93e-03c41893ea32",
   "metadata": {},
   "outputs": [],
   "source": [
    "doc = nlp(u'Tesla is looking at buying U.S startup for $6million')"
   ]
  },
  {
   "cell_type": "code",
   "execution_count": 29,
   "id": "5a010ceb-0e7a-4f24-9dae-fd448b722fe6",
   "metadata": {},
   "outputs": [
    {
     "name": "stdout",
     "output_type": "stream",
     "text": [
      "Tesla PROPN nsubj\n",
      "is AUX aux\n",
      "looking VERB ROOT\n",
      "at ADP prep\n",
      "buying VERB pcomp\n",
      "U.S PROPN dobj\n",
      "startup VERB advcl\n",
      "for ADP prep\n",
      "$ SYM nmod\n",
      "6million NUM pobj\n"
     ]
    }
   ],
   "source": [
    "for token in doc:\n",
    "    print(token.text, token.pos_, token.dep_)"
   ]
  },
  {
   "cell_type": "code",
   "execution_count": 31,
   "id": "64441528-9b2f-4882-87fd-375af4101c9b",
   "metadata": {},
   "outputs": [
    {
     "data": {
      "text/plain": [
       "['tok2vec', 'tagger', 'parser', 'attribute_ruler', 'lemmatizer', 'ner']"
      ]
     },
     "execution_count": 31,
     "metadata": {},
     "output_type": "execute_result"
    }
   ],
   "source": [
    "nlp.pipe_names"
   ]
  },
  {
   "cell_type": "code",
   "execution_count": 32,
   "id": "4e249a01-8136-4cf6-a89f-e0eed4f58df6",
   "metadata": {},
   "outputs": [
    {
     "data": {
      "text/plain": [
       "'PRON'"
      ]
     },
     "execution_count": 32,
     "metadata": {},
     "output_type": "execute_result"
    }
   ],
   "source": [
    "doc2[0].pos_"
   ]
  },
  {
   "cell_type": "code",
   "execution_count": 33,
   "id": "1ea9c8e3-d968-45cb-9411-c268d1b74ac1",
   "metadata": {},
   "outputs": [
    {
     "data": {
      "text/plain": [
       "'poss'"
      ]
     },
     "execution_count": 33,
     "metadata": {},
     "output_type": "execute_result"
    }
   ],
   "source": [
    "doc2[0].dep_"
   ]
  },
  {
   "cell_type": "markdown",
   "id": "4f157d1d-6844-4102-96bf-9647e6a82411",
   "metadata": {},
   "source": [
    "Tokenization"
   ]
  },
  {
   "cell_type": "code",
   "execution_count": null,
   "id": "748bee6a-c101-47cf-ba61-3a21af7c51e5",
   "metadata": {},
   "outputs": [],
   "source": [
    "import spacy\n",
    "nlp = spacy.load('en_core_web_sm')"
   ]
  },
  {
   "cell_type": "code",
   "execution_count": 40,
   "id": "fd7d5bc2-4e43-41aa-b049-ff593e5b4c2a",
   "metadata": {},
   "outputs": [
    {
     "data": {
      "text/plain": [
       "\"we're moving to L.A.!\""
      ]
     },
     "execution_count": 40,
     "metadata": {},
     "output_type": "execute_result"
    }
   ],
   "source": [
    "mystring = \"we\\'re moving to L.A.!\"\n",
    "mystring"
   ]
  },
  {
   "cell_type": "code",
   "execution_count": 43,
   "id": "85817858-7ac6-4036-814e-2ad66167dcc5",
   "metadata": {},
   "outputs": [
    {
     "name": "stdout",
     "output_type": "stream",
     "text": [
      "we | 're | moving | to | L.A. | ! | "
     ]
    }
   ],
   "source": [
    "#created doc object and explore tokens\n",
    "doc = nlp(mystring)\n",
    "for token in doc:\n",
    "    print(token.text, end=' | ')"
   ]
  },
  {
   "cell_type": "markdown",
   "id": "a9e5daca-2367-4e91-bcee-2e076fa8bfb5",
   "metadata": {},
   "source": [
    "Named entities"
   ]
  },
  {
   "cell_type": "code",
   "execution_count": 50,
   "id": "31e9ceda-7628-49df-8b99-bdba72127876",
   "metadata": {},
   "outputs": [
    {
     "name": "stdout",
     "output_type": "stream",
     "text": [
      "Apple | to | build | a | Hong | Kong | factory | for | $ | 6 | million | \n",
      "----\n"
     ]
    }
   ],
   "source": [
    "doc8 = nlp(u'Apple to build a Hong Kong factory for $6 million')\n",
    "\n",
    "for token in doc8:\n",
    "    print(token.text, end=' | ')\n",
    "\n",
    "print('\\n----')"
   ]
  },
  {
   "cell_type": "code",
   "execution_count": 51,
   "id": "01a8fc27-ad59-4042-8bb9-cdf3e44f7b3c",
   "metadata": {},
   "outputs": [
    {
     "name": "stdout",
     "output_type": "stream",
     "text": [
      "Apple - ORG - Companies, agencies, institutions, etc.\n",
      "Hong Kong - GPE - Countries, cities, states\n",
      "$6 million - MONEY - Monetary values, including unit\n"
     ]
    }
   ],
   "source": [
    "for ent in doc8.ents:\n",
    "    print(ent.text+' - '+ent.label_+' - '+str(spacy.explain(ent.label_)))"
   ]
  },
  {
   "cell_type": "code",
   "execution_count": null,
   "id": "fd207788-ca78-456d-8dfd-40409d5ac7b6",
   "metadata": {},
   "outputs": [],
   "source": [
    "#doc8.ents = contains all named entities found in the text\n",
    "#ent.text = print the actual named entity\n",
    "#ent.label = print the category \n",
    "#spacy.explain(ent.label_) give the full meaning of the category"
   ]
  },
  {
   "cell_type": "code",
   "execution_count": 53,
   "id": "d3a43212-07d2-4914-bb4e-13bba3674124",
   "metadata": {},
   "outputs": [
    {
     "name": "stdout",
     "output_type": "stream",
     "text": [
      "Red cars\n",
      "higher insurance\n"
     ]
    }
   ],
   "source": [
    "doc10 = nlp(u\"Red cars do not carry higher insurance rated.\")\n",
    "for chunk in doc10.noun_chunks:\n",
    "    print(chunk.text)"
   ]
  },
  {
   "cell_type": "code",
   "execution_count": null,
   "id": "cd690c18-eb10-4fc2-bdd4-fe16df2ba28a",
   "metadata": {},
   "outputs": [],
   "source": [
    "#Visualizing dependency"
   ]
  },
  {
   "cell_type": "code",
   "execution_count": 55,
   "id": "28291bd9-adef-4014-b6fa-521db376443a",
   "metadata": {},
   "outputs": [
    {
     "data": {
      "text/html": [
       "<span class=\"tex2jax_ignore\"><svg xmlns=\"http://www.w3.org/2000/svg\" xmlns:xlink=\"http://www.w3.org/1999/xlink\" xml:lang=\"en\" id=\"7c169fa8028a48fba7dad0acec216174-0\" class=\"displacy\" width=\"2150\" height=\"487.0\" direction=\"ltr\" style=\"max-width: none; height: 487.0px; color: #000000; background: #ffffff; font-family: Arial; direction: ltr\">\n",
       "<text class=\"displacy-token\" fill=\"currentColor\" text-anchor=\"middle\" y=\"397.0\">\n",
       "    <tspan class=\"displacy-word\" fill=\"currentColor\" x=\"50\">Apple</tspan>\n",
       "    <tspan class=\"displacy-tag\" dy=\"2em\" fill=\"currentColor\" x=\"50\">PROPN</tspan>\n",
       "</text>\n",
       "\n",
       "<text class=\"displacy-token\" fill=\"currentColor\" text-anchor=\"middle\" y=\"397.0\">\n",
       "    <tspan class=\"displacy-word\" fill=\"currentColor\" x=\"225\">is</tspan>\n",
       "    <tspan class=\"displacy-tag\" dy=\"2em\" fill=\"currentColor\" x=\"225\">AUX</tspan>\n",
       "</text>\n",
       "\n",
       "<text class=\"displacy-token\" fill=\"currentColor\" text-anchor=\"middle\" y=\"397.0\">\n",
       "    <tspan class=\"displacy-word\" fill=\"currentColor\" x=\"400\">going</tspan>\n",
       "    <tspan class=\"displacy-tag\" dy=\"2em\" fill=\"currentColor\" x=\"400\">VERB</tspan>\n",
       "</text>\n",
       "\n",
       "<text class=\"displacy-token\" fill=\"currentColor\" text-anchor=\"middle\" y=\"397.0\">\n",
       "    <tspan class=\"displacy-word\" fill=\"currentColor\" x=\"575\">to</tspan>\n",
       "    <tspan class=\"displacy-tag\" dy=\"2em\" fill=\"currentColor\" x=\"575\">PART</tspan>\n",
       "</text>\n",
       "\n",
       "<text class=\"displacy-token\" fill=\"currentColor\" text-anchor=\"middle\" y=\"397.0\">\n",
       "    <tspan class=\"displacy-word\" fill=\"currentColor\" x=\"750\">build</tspan>\n",
       "    <tspan class=\"displacy-tag\" dy=\"2em\" fill=\"currentColor\" x=\"750\">VERB</tspan>\n",
       "</text>\n",
       "\n",
       "<text class=\"displacy-token\" fill=\"currentColor\" text-anchor=\"middle\" y=\"397.0\">\n",
       "    <tspan class=\"displacy-word\" fill=\"currentColor\" x=\"925\">a</tspan>\n",
       "    <tspan class=\"displacy-tag\" dy=\"2em\" fill=\"currentColor\" x=\"925\">DET</tspan>\n",
       "</text>\n",
       "\n",
       "<text class=\"displacy-token\" fill=\"currentColor\" text-anchor=\"middle\" y=\"397.0\">\n",
       "    <tspan class=\"displacy-word\" fill=\"currentColor\" x=\"1100\">U.K</tspan>\n",
       "    <tspan class=\"displacy-tag\" dy=\"2em\" fill=\"currentColor\" x=\"1100\">PROPN</tspan>\n",
       "</text>\n",
       "\n",
       "<text class=\"displacy-token\" fill=\"currentColor\" text-anchor=\"middle\" y=\"397.0\">\n",
       "    <tspan class=\"displacy-word\" fill=\"currentColor\" x=\"1275\">factory</tspan>\n",
       "    <tspan class=\"displacy-tag\" dy=\"2em\" fill=\"currentColor\" x=\"1275\">NOUN</tspan>\n",
       "</text>\n",
       "\n",
       "<text class=\"displacy-token\" fill=\"currentColor\" text-anchor=\"middle\" y=\"397.0\">\n",
       "    <tspan class=\"displacy-word\" fill=\"currentColor\" x=\"1450\">for</tspan>\n",
       "    <tspan class=\"displacy-tag\" dy=\"2em\" fill=\"currentColor\" x=\"1450\">ADP</tspan>\n",
       "</text>\n",
       "\n",
       "<text class=\"displacy-token\" fill=\"currentColor\" text-anchor=\"middle\" y=\"397.0\">\n",
       "    <tspan class=\"displacy-word\" fill=\"currentColor\" x=\"1625\">$</tspan>\n",
       "    <tspan class=\"displacy-tag\" dy=\"2em\" fill=\"currentColor\" x=\"1625\">SYM</tspan>\n",
       "</text>\n",
       "\n",
       "<text class=\"displacy-token\" fill=\"currentColor\" text-anchor=\"middle\" y=\"397.0\">\n",
       "    <tspan class=\"displacy-word\" fill=\"currentColor\" x=\"1800\">6</tspan>\n",
       "    <tspan class=\"displacy-tag\" dy=\"2em\" fill=\"currentColor\" x=\"1800\">NUM</tspan>\n",
       "</text>\n",
       "\n",
       "<text class=\"displacy-token\" fill=\"currentColor\" text-anchor=\"middle\" y=\"397.0\">\n",
       "    <tspan class=\"displacy-word\" fill=\"currentColor\" x=\"1975\">milllion.</tspan>\n",
       "    <tspan class=\"displacy-tag\" dy=\"2em\" fill=\"currentColor\" x=\"1975\">NOUN</tspan>\n",
       "</text>\n",
       "\n",
       "<g class=\"displacy-arrow\">\n",
       "    <path class=\"displacy-arc\" id=\"arrow-7c169fa8028a48fba7dad0acec216174-0-0\" stroke-width=\"2px\" d=\"M70,352.0 C70,177.0 390.0,177.0 390.0,352.0\" fill=\"none\" stroke=\"currentColor\"/>\n",
       "    <text dy=\"1.25em\" style=\"font-size: 0.8em; letter-spacing: 1px\">\n",
       "        <textPath xlink:href=\"#arrow-7c169fa8028a48fba7dad0acec216174-0-0\" class=\"displacy-label\" startOffset=\"50%\" side=\"left\" fill=\"currentColor\" text-anchor=\"middle\">nsubj</textPath>\n",
       "    </text>\n",
       "    <path class=\"displacy-arrowhead\" d=\"M70,354.0 L62,342.0 78,342.0\" fill=\"currentColor\"/>\n",
       "</g>\n",
       "\n",
       "<g class=\"displacy-arrow\">\n",
       "    <path class=\"displacy-arc\" id=\"arrow-7c169fa8028a48fba7dad0acec216174-0-1\" stroke-width=\"2px\" d=\"M245,352.0 C245,264.5 385.0,264.5 385.0,352.0\" fill=\"none\" stroke=\"currentColor\"/>\n",
       "    <text dy=\"1.25em\" style=\"font-size: 0.8em; letter-spacing: 1px\">\n",
       "        <textPath xlink:href=\"#arrow-7c169fa8028a48fba7dad0acec216174-0-1\" class=\"displacy-label\" startOffset=\"50%\" side=\"left\" fill=\"currentColor\" text-anchor=\"middle\">aux</textPath>\n",
       "    </text>\n",
       "    <path class=\"displacy-arrowhead\" d=\"M245,354.0 L237,342.0 253,342.0\" fill=\"currentColor\"/>\n",
       "</g>\n",
       "\n",
       "<g class=\"displacy-arrow\">\n",
       "    <path class=\"displacy-arc\" id=\"arrow-7c169fa8028a48fba7dad0acec216174-0-2\" stroke-width=\"2px\" d=\"M595,352.0 C595,264.5 735.0,264.5 735.0,352.0\" fill=\"none\" stroke=\"currentColor\"/>\n",
       "    <text dy=\"1.25em\" style=\"font-size: 0.8em; letter-spacing: 1px\">\n",
       "        <textPath xlink:href=\"#arrow-7c169fa8028a48fba7dad0acec216174-0-2\" class=\"displacy-label\" startOffset=\"50%\" side=\"left\" fill=\"currentColor\" text-anchor=\"middle\">aux</textPath>\n",
       "    </text>\n",
       "    <path class=\"displacy-arrowhead\" d=\"M595,354.0 L587,342.0 603,342.0\" fill=\"currentColor\"/>\n",
       "</g>\n",
       "\n",
       "<g class=\"displacy-arrow\">\n",
       "    <path class=\"displacy-arc\" id=\"arrow-7c169fa8028a48fba7dad0acec216174-0-3\" stroke-width=\"2px\" d=\"M420,352.0 C420,177.0 740.0,177.0 740.0,352.0\" fill=\"none\" stroke=\"currentColor\"/>\n",
       "    <text dy=\"1.25em\" style=\"font-size: 0.8em; letter-spacing: 1px\">\n",
       "        <textPath xlink:href=\"#arrow-7c169fa8028a48fba7dad0acec216174-0-3\" class=\"displacy-label\" startOffset=\"50%\" side=\"left\" fill=\"currentColor\" text-anchor=\"middle\">xcomp</textPath>\n",
       "    </text>\n",
       "    <path class=\"displacy-arrowhead\" d=\"M740.0,354.0 L748.0,342.0 732.0,342.0\" fill=\"currentColor\"/>\n",
       "</g>\n",
       "\n",
       "<g class=\"displacy-arrow\">\n",
       "    <path class=\"displacy-arc\" id=\"arrow-7c169fa8028a48fba7dad0acec216174-0-4\" stroke-width=\"2px\" d=\"M945,352.0 C945,177.0 1265.0,177.0 1265.0,352.0\" fill=\"none\" stroke=\"currentColor\"/>\n",
       "    <text dy=\"1.25em\" style=\"font-size: 0.8em; letter-spacing: 1px\">\n",
       "        <textPath xlink:href=\"#arrow-7c169fa8028a48fba7dad0acec216174-0-4\" class=\"displacy-label\" startOffset=\"50%\" side=\"left\" fill=\"currentColor\" text-anchor=\"middle\">det</textPath>\n",
       "    </text>\n",
       "    <path class=\"displacy-arrowhead\" d=\"M945,354.0 L937,342.0 953,342.0\" fill=\"currentColor\"/>\n",
       "</g>\n",
       "\n",
       "<g class=\"displacy-arrow\">\n",
       "    <path class=\"displacy-arc\" id=\"arrow-7c169fa8028a48fba7dad0acec216174-0-5\" stroke-width=\"2px\" d=\"M1120,352.0 C1120,264.5 1260.0,264.5 1260.0,352.0\" fill=\"none\" stroke=\"currentColor\"/>\n",
       "    <text dy=\"1.25em\" style=\"font-size: 0.8em; letter-spacing: 1px\">\n",
       "        <textPath xlink:href=\"#arrow-7c169fa8028a48fba7dad0acec216174-0-5\" class=\"displacy-label\" startOffset=\"50%\" side=\"left\" fill=\"currentColor\" text-anchor=\"middle\">compound</textPath>\n",
       "    </text>\n",
       "    <path class=\"displacy-arrowhead\" d=\"M1120,354.0 L1112,342.0 1128,342.0\" fill=\"currentColor\"/>\n",
       "</g>\n",
       "\n",
       "<g class=\"displacy-arrow\">\n",
       "    <path class=\"displacy-arc\" id=\"arrow-7c169fa8028a48fba7dad0acec216174-0-6\" stroke-width=\"2px\" d=\"M770,352.0 C770,89.5 1270.0,89.5 1270.0,352.0\" fill=\"none\" stroke=\"currentColor\"/>\n",
       "    <text dy=\"1.25em\" style=\"font-size: 0.8em; letter-spacing: 1px\">\n",
       "        <textPath xlink:href=\"#arrow-7c169fa8028a48fba7dad0acec216174-0-6\" class=\"displacy-label\" startOffset=\"50%\" side=\"left\" fill=\"currentColor\" text-anchor=\"middle\">dobj</textPath>\n",
       "    </text>\n",
       "    <path class=\"displacy-arrowhead\" d=\"M1270.0,354.0 L1278.0,342.0 1262.0,342.0\" fill=\"currentColor\"/>\n",
       "</g>\n",
       "\n",
       "<g class=\"displacy-arrow\">\n",
       "    <path class=\"displacy-arc\" id=\"arrow-7c169fa8028a48fba7dad0acec216174-0-7\" stroke-width=\"2px\" d=\"M770,352.0 C770,2.0 1450.0,2.0 1450.0,352.0\" fill=\"none\" stroke=\"currentColor\"/>\n",
       "    <text dy=\"1.25em\" style=\"font-size: 0.8em; letter-spacing: 1px\">\n",
       "        <textPath xlink:href=\"#arrow-7c169fa8028a48fba7dad0acec216174-0-7\" class=\"displacy-label\" startOffset=\"50%\" side=\"left\" fill=\"currentColor\" text-anchor=\"middle\">prep</textPath>\n",
       "    </text>\n",
       "    <path class=\"displacy-arrowhead\" d=\"M1450.0,354.0 L1458.0,342.0 1442.0,342.0\" fill=\"currentColor\"/>\n",
       "</g>\n",
       "\n",
       "<g class=\"displacy-arrow\">\n",
       "    <path class=\"displacy-arc\" id=\"arrow-7c169fa8028a48fba7dad0acec216174-0-8\" stroke-width=\"2px\" d=\"M1645,352.0 C1645,264.5 1785.0,264.5 1785.0,352.0\" fill=\"none\" stroke=\"currentColor\"/>\n",
       "    <text dy=\"1.25em\" style=\"font-size: 0.8em; letter-spacing: 1px\">\n",
       "        <textPath xlink:href=\"#arrow-7c169fa8028a48fba7dad0acec216174-0-8\" class=\"displacy-label\" startOffset=\"50%\" side=\"left\" fill=\"currentColor\" text-anchor=\"middle\">nmod</textPath>\n",
       "    </text>\n",
       "    <path class=\"displacy-arrowhead\" d=\"M1645,354.0 L1637,342.0 1653,342.0\" fill=\"currentColor\"/>\n",
       "</g>\n",
       "\n",
       "<g class=\"displacy-arrow\">\n",
       "    <path class=\"displacy-arc\" id=\"arrow-7c169fa8028a48fba7dad0acec216174-0-9\" stroke-width=\"2px\" d=\"M1820,352.0 C1820,264.5 1960.0,264.5 1960.0,352.0\" fill=\"none\" stroke=\"currentColor\"/>\n",
       "    <text dy=\"1.25em\" style=\"font-size: 0.8em; letter-spacing: 1px\">\n",
       "        <textPath xlink:href=\"#arrow-7c169fa8028a48fba7dad0acec216174-0-9\" class=\"displacy-label\" startOffset=\"50%\" side=\"left\" fill=\"currentColor\" text-anchor=\"middle\">nummod</textPath>\n",
       "    </text>\n",
       "    <path class=\"displacy-arrowhead\" d=\"M1820,354.0 L1812,342.0 1828,342.0\" fill=\"currentColor\"/>\n",
       "</g>\n",
       "\n",
       "<g class=\"displacy-arrow\">\n",
       "    <path class=\"displacy-arc\" id=\"arrow-7c169fa8028a48fba7dad0acec216174-0-10\" stroke-width=\"2px\" d=\"M1470,352.0 C1470,177.0 1965.0,177.0 1965.0,352.0\" fill=\"none\" stroke=\"currentColor\"/>\n",
       "    <text dy=\"1.25em\" style=\"font-size: 0.8em; letter-spacing: 1px\">\n",
       "        <textPath xlink:href=\"#arrow-7c169fa8028a48fba7dad0acec216174-0-10\" class=\"displacy-label\" startOffset=\"50%\" side=\"left\" fill=\"currentColor\" text-anchor=\"middle\">pobj</textPath>\n",
       "    </text>\n",
       "    <path class=\"displacy-arrowhead\" d=\"M1965.0,354.0 L1973.0,342.0 1957.0,342.0\" fill=\"currentColor\"/>\n",
       "</g>\n",
       "</svg></span>"
      ],
      "text/plain": [
       "<IPython.core.display.HTML object>"
      ]
     },
     "metadata": {},
     "output_type": "display_data"
    }
   ],
   "source": [
    "from spacy import displacy\n",
    "doc = nlp(u'Apple is going to build a U.K factory for $6 milllion.')\n",
    "displacy.render(doc, style='dep', jupyter=True, options={'distnace':110})"
   ]
  },
  {
   "cell_type": "code",
   "execution_count": null,
   "id": "142b0080-d6f1-4ef0-931f-4bc57e3e88ed",
   "metadata": {},
   "outputs": [],
   "source": [
    "#displacy.render() = Displays a dependency tree of words.\n",
    "#style='dep' = shows dependencies (how words are connected)\n",
    "#Jupyter=True = used for running in jupyter notebook \n",
    "#Options={'distance':110} adjusts the spacing between words"
   ]
  },
  {
   "cell_type": "markdown",
   "id": "50a8aeef-1018-41cb-a298-17d212eb018f",
   "metadata": {},
   "source": [
    "STOP WORDS"
   ]
  },
  {
   "cell_type": "code",
   "execution_count": 56,
   "id": "b58c6074-69b4-456e-a20b-2626d2a52bb9",
   "metadata": {},
   "outputs": [],
   "source": [
    "import spacy\n",
    "nlp = spacy.load('en_core_web_sm')"
   ]
  },
  {
   "cell_type": "code",
   "execution_count": 57,
   "id": "c40303a9-fc72-44c1-86a5-deaa2fd6efbf",
   "metadata": {},
   "outputs": [
    {
     "name": "stdout",
     "output_type": "stream",
     "text": [
      "{'quite', 'already', 'some', 'thereupon', 'doing', 'show', 'further', 'here', 'whither', 'somewhere', 'very', 'are', 'together', 'anything', 'it', 'onto', 'by', 'before', 'few', 'these', 'nobody', 'take', 'a', 'full', 'twelve', 'unless', 'ever', 'its', 'toward', 'her', 'becomes', 'whereupon', 'latterly', 'whatever', 'could', 'after', 'each', 'seem', 'that', 'who', 'within', 'although', 'say', 'whereby', 'make', 'move', 'made', 'such', 'go', 'can', 'seems', 'had', 'noone', 'nowhere', 'i', '‘d', 'therefore', 'no', 'see', 'wherever', 'once', 'everywhere', 'whereafter', 'throughout', 'how', 'against', 'any', 'which', 'anywhere', 'why', 'for', 'else', '’d', 'we', 'everyone', 'whom', 'beforehand', \"'ve\", 'thus', 'keep', 'own', 'is', 'used', 'more', 'am', 'where', 'name', 'ours', 'themselves', 'twenty', 'enough', 'first', 'almost', 'and', 'as', 'less', \"'s\", 'moreover', 'beyond', 'top', 'all', 'they', 'herein', 'just', 'have', 'our', 'this', 'mostly', 'nor', 'elsewhere', 'of', 'using', 'sometimes', 'out', 'mine', 'down', 'side', 'either', 'at', 'anyway', 'next', 'various', 'always', 'to', \"'re\", 'regarding', 'much', 'cannot', 'something', 'during', 'up', 'she', 'there', 'somehow', 'formerly', 'third', 'may', 'his', 'from', 'them', 'himself', 'most', 'if', 'both', 'hereby', 'thru', 'put', 'hers', 'everything', 'until', 'between', 'did', 'me', 'neither', 'behind', 'eight', 'since', 'your', 'whoever', 'only', 'than', 'every', 'call', 'indeed', 'via', 'because', '‘ve', \"'ll\", 'were', 'the', 'amount', 'too', 'become', 'when', 'nothing', 'while', 're', 'anyone', 'empty', 'meanwhile', 'ca', 'might', 'seemed', 'other', 'one', 'was', \"'d\", 'done', \"n't\", 'be', 'been', 'another', 'whereas', 'whose', 'ten', 'afterwards', 'again', 'latter', 'otherwise', 'amongst', '‘s', 'sixty', 'what', \"'m\", 'last', 'whence', 'him', 'anyhow', 'do', 'yourselves', 'above', 'you', 'bottom', 'my', 'then', 'thereafter', '‘re', 'whether', 'hundred', 'those', 'many', 'per', 'least', 'besides', 'off', 'being', 'yours', 'so', 'towards', 'perhaps', 'former', 'itself', 'over', 'among', 'even', 'nine', 'six', 'becoming', 'nevertheless', 'or', 'under', 'without', 'on', '’s', '’m', 'must', 'he', 'n‘t', 'whenever', 'in', 'herself', 'beside', 'through', 'fifty', 'hence', 'should', 'will', 'around', 'became', 'though', 'back', 'five', 'please', 'n’t', 'well', 'yet', 'their', 'us', 'does', 'three', 'namely', 'with', 'alone', 'however', '‘m', 'would', 'others', 'get', 'front', 'none', 'thereby', 'someone', 'hereupon', 'also', 'but', 'wherein', 'eleven', 'hereafter', 'due', '’ll', 'never', 'serious', 'really', 'seeming', 'part', 'across', 'often', 'whole', '’ve', 'sometime', 'still', 'upon', '’re', 'about', 'along', 'now', 'an', 'below', 'four', 'same', 'fifteen', 'give', 'except', 'has', 'forty', '‘ll', 'therein', 'into', 'thence', 'rather', 'myself', 'two', 'several', 'not', 'yourself', 'ourselves'}\n"
     ]
    }
   ],
   "source": [
    "print(nlp.Defaults.stop_words)"
   ]
  },
  {
   "cell_type": "code",
   "execution_count": null,
   "id": "0df32c0f-10d4-450c-93ac-3ff7fbe3eb89",
   "metadata": {},
   "outputs": [],
   "source": [
    "#Learn stop word"
   ]
  },
  {
   "cell_type": "markdown",
   "id": "309cf3bb-7ec6-453c-a142-0dd45bc42123",
   "metadata": {},
   "source": [
    "Lemmatization"
   ]
  },
  {
   "cell_type": "code",
   "execution_count": 1,
   "id": "5c2434e1-cca4-49d9-b874-3cb00c2c0658",
   "metadata": {},
   "outputs": [],
   "source": [
    "import spacy\n",
    "nlp = spacy.load(\"en_core_web_sm\")"
   ]
  },
  {
   "cell_type": "code",
   "execution_count": 2,
   "id": "b405dbc4-8610-4f09-a635-a2c7bfcfabbf",
   "metadata": {},
   "outputs": [],
   "source": [
    "text = \"the children are playing happily in the gardens.\"\n",
    "doc = nlp(text)"
   ]
  },
  {
   "cell_type": "code",
   "execution_count": 4,
   "id": "659fe521-a5e1-4bd5-85c5-c634d1aacda2",
   "metadata": {},
   "outputs": [
    {
     "name": "stdout",
     "output_type": "stream",
     "text": [
      "the \t DET \t 7425985699627899538 \t the\n",
      "children \t NOUN \t 737253710922290542 \t children\n",
      "are \t AUX \t 10382539506755952630 \t are\n",
      "playing \t VERB \t 8228585124152053988 \t playing\n",
      "happily \t ADV \t 11249281353853680722 \t happily\n",
      "in \t ADP \t 3002984154512732771 \t in\n",
      "the \t DET \t 7425985699627899538 \t the\n",
      "gardens \t NOUN \t 2103183101269663724 \t gardens\n",
      ". \t PUNCT \t 12646065887601541794 \t .\n"
     ]
    }
   ],
   "source": [
    "for token in doc:\n",
    "    print(token.text, '\\t', token.pos_, '\\t', token.lemma, '\\t',token)"
   ]
  },
  {
   "cell_type": "code",
   "execution_count": null,
   "id": "ce23ca99-0a1f-4170-9c35-349204cc32b1",
   "metadata": {},
   "outputs": [],
   "source": [
    "#token.text  = the actual word in the text.\n",
    "#'\\t'        = A tab space (for better formatting in output.\n",
    "#token.pos_  = The part of speech (POS) of the world (noun, verb,adjective).\n",
    "#token,lemma = the base (root) form of the word (but without _, so this might not print the expected result).\n",
    "#token       = the token object itself(useful for debugging)."
   ]
  },
  {
   "cell_type": "code",
   "execution_count": 23,
   "id": "99915211-4bbf-4cd3-b5a0-816804cde16e",
   "metadata": {},
   "outputs": [],
   "source": [
    "def show_lemmas(text):\n",
    "    for token in text:\n",
    "        print(f'{token.text:{12}} {token.pos_:{16}} {token.lemma:<{22}} {token.lemma_}')"
   ]
  },
  {
   "cell_type": "code",
   "execution_count": 24,
   "id": "53b26fa0-ff70-4e82-858f-2551dbe5906f",
   "metadata": {},
   "outputs": [],
   "source": [
    "doc1 = nlp"
   ]
  },
  {
   "cell_type": "code",
   "execution_count": 25,
   "id": "53807287-9f6d-4fdd-a2df-f4fcc45a921d",
   "metadata": {},
   "outputs": [
    {
     "name": "stdout",
     "output_type": "stream",
     "text": [
      "My           PRON             227504873216781231     my\n",
      "metting      NOUN             3601968449951103865    metting\n",
      "is           AUX              10382539506755952630   be\n",
      "tomorrow     NOUN             3573583789758258062    tomorrow\n",
      "at           ADP              11667289587015813222   at\n",
      "the          DET              7425985699627899538    the\n",
      "night        NOUN             13511804770843510887   night\n",
      ".            PUNCT            12646065887601541794   .\n"
     ]
    }
   ],
   "source": [
    "doc2 = nlp (u\"My metting is tomorrow at the night.\")\n",
    "show_lemmas(doc2)"
   ]
  },
  {
   "cell_type": "markdown",
   "id": "bb0cfbb9-12f9-4ee4-8aa2-e84fe1197177",
   "metadata": {},
   "source": [
    "Phrase match"
   ]
  },
  {
   "cell_type": "code",
   "execution_count": 58,
   "id": "2f6c8693-7175-4504-9319-b552230a343a",
   "metadata": {},
   "outputs": [],
   "source": [
    "import spacy\n",
    "nlp = spacy.load('en_core_web_sm')"
   ]
  },
  {
   "cell_type": "code",
   "execution_count": 59,
   "id": "7c98d192-2d87-480b-a16f-0b226c8983b8",
   "metadata": {},
   "outputs": [],
   "source": [
    "from spacy.matcher import PhraseMatcher\n",
    "Matcher = PhraseMatcher(nlp.vocab)"
   ]
  },
  {
   "cell_type": "code",
   "execution_count": 60,
   "id": "02620307-bc62-4076-afbe-5730f80018f0",
   "metadata": {},
   "outputs": [],
   "source": [
    "with open('reaganomics1.txt','r') as f:\n",
    "    doc3 = nlp(f.read())"
   ]
  },
  {
   "cell_type": "code",
   "execution_count": 61,
   "id": "23b214e0-6f45-4f60-b82b-6374b7eacf4a",
   "metadata": {},
   "outputs": [
    {
     "name": "stdout",
     "output_type": "stream",
     "text": [
      "REAGANOMICS\n",
      "https://en.wikipedia.org/wiki/Reaganomics\n",
      "\n",
      "Reaganomics (a portmanteau of [Ronald] Reagan and economics attributed to Paul Harvey)[1] refers to the economic policies promoted by U.S. President Ronald Reagan during the 1980s. These policies are commonly associated with supply-side economics, referred to as trickle-down economics or voodoo economics by political opponents, and free-market economics by political advocates.\n",
      "\n",
      "The four pillars of Reagan's economic policy were to reduce the growth of government spending, reduce the federal income tax and capital gains tax, reduce government regulation, and tighten the money supply in order to reduce inflation.[2]\n",
      "\n",
      "The results of Reaganomics are still debated. Supporters point to the end of stagflation, stronger GDP growth, and an entrepreneur revolution in the decades that followed.[3][4] Critics point to the widening income gap, an atmosphere of greed, and the national debt tripling in eight years which ultimately reversed the post-World War II trend of a shrinking national debt as percentage of GDP.[5][6]\n",
      "\n",
      "HISTORICAL CONTEXT\n",
      "\n",
      "Prior to the Reagan administration, the United States economy experienced a decade of high unemployment and persistently high inflation (known as stagflation). Attacks on Keynesian economic orthodoxy as well as empirical economic models such as the Phillips Curve grew. Political pressure favored stimulus resulting in an expansion of the money supply. President Richard Nixon's wage and price controls were phased out.[7] The federal oil reserves were created to ease any future short term shocks. President Jimmy Carter had begun phasing out price controls on petroleum while he created the Department of Energy. Much of the credit for the resolution of the stagflation is given to two causes: a three-year contraction of the money supply by the Federal Reserve Board under Paul Volcker, initiated in the last year of Carter's presidency, and long-term easing of supply and pricing in oil during the 1980s oil glut.[citation needed]\n",
      "\n",
      "In stating that his intention was to lower taxes, Reagan's approach was a departure from his immediate predecessors. Reagan enacted lower marginal tax rates as well as simplified income tax codes and continued deregulation. During Reagan's eight year presidency, the annual deficits averaged 4.0% of GDP, compared to a 2.2% average during the preceding eight years.[8] The real (inflation adjusted) average rate of growth in federal spending fell from 4% under Jimmy Carter to 2.5% under Ronald Reagan.[9][10] GDP per employed person increased at an average 1.5% rate during the Reagan administration, compared to an average 0.6% during the preceding eight years.[11] Private sector productivity growth, measured as real output per hour of all persons, increased at an average rate of 1.9% during Reagan's eight years, compared to an average 1.3% during the preceding eight years.[12] Federal net outlays as a percent of GDP averaged 21.4% under Reagan, compared to 19.1% during the preceding eight years.[13]\n",
      "\n",
      "During the Nixon and Ford Administrations, before Reagan's election, a combined supply and demand side policy was considered unconventional by the moderate wing of the Republican Party. While running against Reagan for the Presidential nomination in 1980, George H. W. Bush had derided Reaganomics as \"voodoo economics\".[14] Similarly, in 1976, Gerald Ford had severely criticized Reagan's proposal to turn back a large part of the Federal budget to the states.\n",
      "\n",
      "JUSTIFICATIONS\n",
      "\n",
      "In his 1980 campaign speeches, Reagan presented his economic proposals as a return to the free enterprise principles, free market economy that had been in favor before the Great Depression and FDR's New Deal policies. At the same time he attracted a following from the supply-side economics movement, which formed in opposition to Keynesian demand-stimulus economics. This movement produced some of the strongest supporters for Reagan's policies during his term in office.\n",
      "\n",
      "The contention of the proponents, that the tax rate cuts would more than cover any increases in federal debt, was influenced by a theoretical taxation model based on the elasticity of tax rates, known as the Laffer curve. Arthur Laffer's model predicts that excessive tax rates actually reduce potential tax revenues, by lowering the incentive to produce; the model also predicts that insufficient tax rates (rates below the optimum level for a given economy) lead directly to a reduction in tax revenues.\n",
      "\n",
      "POLICIES\n",
      "\n",
      "Reagan lifted remaining domestic petroleum price and allocation controls on January 28, 1981,[15] and lowered the oil windfall profits tax in August 1981. He ended the oil windfall profits tax in 1988.[16] During the first year of Reagan's presidency, federal income tax rates were lowered significantly with the signing of the Economic Recovery Tax Act of 1981,[17] which lowered the top marginal tax bracket from 70% to 50% and the lowest bracket from 14% to 11%. This act slashed estate taxes and trimmed taxes paid by business corporations by $150 billion over a five-year period. In 1982 Reagan agreed to a rollback of corporate tax cuts and a smaller rollback of individual income tax cuts. The 1982 tax increase undid a third of the initial tax cut. In 1983 Reagan instituted a payroll tax increase on Social Security and Medicare hospital insurance.[18] In 1984 another bill was introduced that closed tax loopholes. According to tax historian Joseph Thorndike, the bills of 1982 and 1984 \"constituted the biggest tax increase ever enacted during peacetime\".[19]\n",
      "\n",
      "With the Tax Reform Act of 1986, Reagan and Congress sought to simplify the tax system by eliminating many deductions, reducing the highest marginal rates, and reducing the number of tax brackets.[20][21][22][23] In 1983, Democrats Bill Bradley and Dick Gephardt had offered a proposal; in 1984 Reagan had the Treasury Department produce its own plan. The 1986 act aimed to be revenue-neutral: while it reduced the top marginal rate, it also cleaned up the tax base by removing certain tax write-offs, preferences, and exceptions, thus raising the effective tax on activities previously specially favored by the code. Ultimately, the combination of the decrease in deductions and decrease in rates raised revenue equal to about 4% of existing tax revenue.[24]\n",
      "\n",
      "Federal revenue share of GDP fell from 19.6% in fiscal 1981 to 17.3% in 1984, before rising back to 18.4% by fiscal year 1989. Personal income tax revenues fell during this period relative to GDP, while payroll tax revenues rose relative to GDP.[25] Reagan's 1981 cut in the top regular tax rate on unearned income reduced the maximum capital gains rate to only 20% – its lowest level since the Hoover administration.[26] The 1986 act set tax rates on capital gains at the same level as the rates on ordinary income like salaries and wages, with both topping out at 28%.[27]\n",
      "\n",
      "Reagan significantly increased public expenditures, primarily the Department of Defense, which rose (in constant 2000 dollars) from $267.1 billion in 1980 (4.9% of GDP and 22.7% of public expenditure) to $393.1 billion in 1988 (5.8% of GDP and 27.3% of public expenditure); most of those years military spending was about 6% of GDP, exceeding this number in 4 different years. All these numbers had not been seen since the end of U.S. involvement in the Vietnam War in 1973.[28] In 1981, Reagan significantly reduced the maximum tax rate, which affected the highest income earners, and lowered the top marginal tax rate from 70% to 50%; in 1986 he further reduced the rate to 28%.[29] The federal deficit under Reagan peaked at 6% of GDP in 1983, falling to 3.2% of GDP in 1987[30] and to 3.1% of GDP in his final budget.[31] The inflation-adjusted rate of growth in federal spending fell from 4% under Jimmy Carter to 2.5% under Ronald Reagan. This was the slowest rate of growth in inflation adjusted spending since Eisenhower. However, federal deficit as percent of GDP was up throughout the Reagan presidency from 2.7% at the end of (and throughout) the Carter administration.[9][31][32] As a short-run strategy to reduce inflation and lower nominal interest rates, the U.S. borrowed both domestically and abroad to cover the Federal budget deficits, raising the national debt from $997 billion to $2.85 trillion.[33] This led to the U.S. moving from the world's largest international creditor to the world's largest debtor nation.[5] Reagan described the new debt as the \"greatest disappointment\" of his presidency.[34]\n",
      "\n",
      "According to William A. Niskanen, one of the architects of Reaganomics, \"Reagan delivered on each of his four major policy objectives, although not to the extent that he and his supporters had hoped\", and notes that the most substantial change was in the tax code, where the top marginal individual income tax rate fell from 70.1% to 28.4%, and there was a \"major reversal in the tax treatment of business income\", with effect of \"reducing the tax bias among types of investment but increasing the average effective tax rate on new investment\". Roger Porter, another architect of the program, acknowledges that the program was weakened by the many hands that changed the President's calculus, such as Congress.[2][35] President Reagan raised taxes eleven times over the course of his presidency, but the overall tax burden went down during his presidency.[36][37] According to Paul Krugman, \"Over all, the 1982 tax increase undid about a third of the 1981 cut; as a share of GDP, the increase was substantially larger than Mr. Clinton's 1993 tax increase.\"[18] According to historian and domestic policy adviser Bruce Bartlett, Reagan's tax increases over the course of his presidency took back half of the 1981 tax cut. Though since the Reagan tax reductions, top marginal tax rates have remained lower than at any point in US history since 1931, when the top marginal rate was raised from 25% to 63%.[38]\n",
      "\n",
      "RESULTS\n",
      "\n",
      "Overview\n",
      "\n",
      "Spending during the years Reagan budgeted (FY 1982–89) averaged 21.6% GDP, roughly tied with President Obama for the highest among any recent President. Each faced a severe recession early in their administration. In addition, the public debt rose from 26% GDP in 1980 to 41% GDP by 1988. In dollar terms, the public debt rose from $712 billion in 1980 to $2.052 trillion in 1988, a roughly three-fold increase.[25]:143 The unemployment rate rose from 7% in 1980 to 11% in 1982, then declined to 5% in 1988. The inflation rate declined from 10% in 1980 to 4% in 1988.[2]\n",
      "\n",
      "Some economists have stated that Reagan's policies were an important part of bringing about the third longest peacetime economic expansion in U.S. history.[39][40] During the Reagan administration, real GDP growth averaged 3.5%, compared to 2.9% during the preceding eight years.[41] The annual average unemployment rate declined by 1.7 percentage points, from 7.2% in 1980 to 5.5% in 1988, after it had increased by 1.6 percentage points over the preceding eight years.[42][43] Nonfarm employment increased by 16.1 million during Reagan's presidency, compared to 15.4 million during the preceding eight years,[44] while manufacturing employment declined by 582,000 after rising 363,000 during the preceding eight years.[45] Reagan's administration is the only one not to have raised the minimum wage.[46] The inflation rate, 13.5% in 1980, fell to 4.1% in 1988, due to the Federal Reserve increasing interest rates (prime rate peaking at 20.5% in August 1981[47]).[48] The latter contributed to a recession from July 1981 to November 1982 during which unemployment rose to 9.7% and GDP fell by 1.9%. Additionally, income growth slowed for middle- and lower-class (2.4% to 1.8%) and rose for the upper-class (2.2% to 4.83%).[49]\n",
      "\n",
      "The misery index, defined as the inflation rate added to the unemployment rate, shrank from 19.33 when he began his administration to 9.72 when he left, the greatest improvement record for a President since Harry S. Truman left office.[50] In terms of American households, the percentage of total households making less than $10,000 a year (in real 2007 dollars) shrank from 8.8% in 1980 to 8.3% in 1988 while the percentage of households making over $75,000 went from 20.2% to 25.7% during that period, both signs of progress.[51]\n",
      "\n",
      "Employment and wages\n",
      "\n",
      "The job growth (measured for non-farm payrolls) under the Reagan administration averaged 168,000 per month, versus 216,000 for Carter, 55,000 for H.W. Bush, and 239,000 for Clinton. Measuring the number of jobs created per month is limited for longer time periods as the population grows. To address this, we can measure annual job growth percentages, comparing the beginning and ending number of jobs during their time in office to determine an annual growth rate. Jobs grew by 2.0% annually under Reagan, versus 3.1% under Carter, 0.6% under H.W. Bush, and 2.4% under Clinton.[52]\n",
      "\n",
      "The unemployment rate averaged 7.5% under Reagan, compared to an average 6.6% during the preceding eight years. Declining steadily after December 1982, the rate was 5.4% the month Reagan left office.[53]\n",
      "\n",
      "The average real hourly wage for production and nonsupervisory workers continued the decline that had begun in 1973, albeit at a slower rate, and remained below the pre-Reagan level in every Reagan year.[54]\n",
      "\n",
      "The labor force participation rate increased by 2.6 percentage points during Reagan's eight years, compared to 3.9 percentage points during the preceding eight years.[55]\n",
      "\n",
      "Growth rates\n",
      "\n",
      "Following the 1981 recession, the unemployment rate had averaged slightly higher (6.75% vs. 6.35%), productivity growth lower (1.38% vs. 1.92%), and private investment as a percentage of GDP slightly less (16.08% vs. 16.86%).[citation needed] In the 1980's, industrial productivity growth in the United States matched that of its trading partners after trailing them in the 1970's. By 1990, manufacturing's share of GNP exceeded the post-World War II low hit in 1982 and matched \"the level of output achieved in the 1960's when American factories hummed at a feverish clip\".[56]\n",
      "\n",
      "GDP growth\n",
      "\n",
      "Real GDP grew over one-third during Reagan’s presidency, an over $2 trillion increase. The compound annual growth rate of GDP was 3.6% during Reagan's eight years, compared to 2.7% during the preceding eight years.[57] Real GDP per capita grew 2.6% under Reagan, compared to 1.9% average growth during the preceding eight years.[58]\n",
      "\n",
      "Income and wealth\n",
      "In nominal terms, median household income grew at a compound annual growth rate (CAGR) of 5.5% during the Reagan presidency, compared to 8.5% during the preceding five years (pre-1975 data are unavailable).[59] Real median family income grew by $4,492 during the Reagan period, compared to a $1,270 increase during the preceding eight years.[60] After declining from 1974 through 1980, real mean personal income rose $4,708 by 1988.[61] Nominal household net worth increased by a CAGR of 8.4%, compared to 9.3% during the preceding eight years.[62]\n",
      "\n",
      "Poverty level\n",
      "\n",
      "The percentage of the total population below the poverty level increased from 13.0% in 1980 to 15.2% in 1983, then declined back to 13.0% in 1988.[64] During Reagan's first term, critics noted homelessness as a visible problem in U.S. urban centers.[65] In the closing weeks of his presidency, Reagan told David Brinkley that the homeless \"make it their own choice for staying out there,\" noting his belief that there \"are shelters in virtually every city, and shelters here, and those people still prefer out there on the grates or the lawn to going into one of those shelters\". He also stated that \"a large proportion\" of them are \"mentally impaired.\" A result (he believed) of ACLU (and similar organizations) lawsuits against institutions.[66] His policies became widely known as \"trickle-down economics\", due to the significant cuts in the upper tax brackets, as that extra money for the wealthy could trickle along to low-income groups.[67]\n",
      "\n",
      "Federal income tax and payroll tax levels\n",
      "\n",
      "During the Reagan administration, fiscal year federal receipts grew from $599 billion to $991 billion (an increase of 65%) while fiscal year federal outlays grew from $678 billion to $1144 billion (an increase of 69%).[68][69] According to a 1996 report of the Joint Economic Committee of the United States Congress, during Reagan's two terms, and through 1993, the top 10% of taxpayers paid an increased share of income taxes (not including payroll taxes) to the Federal government, while the lowest 50% of taxpayers paid a reduced share of income tax revenue.[70] Personal income tax revenues declined from 9.4% GDP in 1981 to 8.3% GDP in 1989, while payroll tax revenues increased from 6.0% GDP to 6.7% GDP during the same period.[25]\n",
      "\n",
      "Tax receipts\n",
      "\n",
      "According to a 2003 Treasury study, the tax cuts in the Economic Recovery Tax Act of 1981 resulted in a significant decline in revenue relative to a baseline without the cuts, approximately $111 billion (in 1992 dollars) on average during the first four years after implementation or nearly 3% GDP annually.[71][72] Other tax bills had neutral or, in the case of the Tax Equity and Fiscal Responsibility Act of 1982, a (~+1% of GDP) increase in revenue as a share of GDP. It should be noted, however, that the study did not examine the longer-term impact of Reagan tax policy, including sunset clauses and \"the long-run, fully-phased-in effect of the tax bills\".[72] The fact that tax receipts as a percentage of GDP fell following the Economic Recovery Tax Act of 1981 shows a decrease in tax burden as share of GDP and a commensurate increase in the deficit, as spending did not fall relative to GDP. Total federal tax receipts increased in every Reagan year except 1982, at an annual average rate of 6.2% compared to 10.8% during the preceding eight years.[73]\n",
      "\n",
      "The effect of Reagan's 1981 tax cuts (reduced revenue relative to a baseline without the cuts) were at least partially offset by phased in Social Security payroll tax increases that had been enacted by President Jimmy Carter and the 95th Congress in 1977, and further increases by Reagan in 1983[74] and following years, also to counter the uses of tax shelters.[75] An accounting indicated nominal tax receipts increased from $599 billion in 1981 to $1.032 trillion in 1990, an increase of 72% in current dollars. In 2005 dollars, the tax receipts in 1990 were $1.5 trillion, an increase of 20% above inflation.[76]\n",
      "\n",
      "Debt and government expenditures\n",
      "Reagan was inaugurated in January 1981, so the first fiscal year (FY) he budgeted was 1982 and the final year was 1989.\n",
      "\n",
      "During Reagan's presidency, the federal debt held by the public nearly tripled in nominal terms, from $738 billion to $2.1 trillion.[77] This led to the U.S. moving from the world's largest international creditor to the world's largest debtor nation.[5] Reagan described the new debt as the \"greatest disappointment\" of his presidency.[34]\n",
      "The federal deficit as percentage of GDP rose from 2.5% of GDP in fiscal year 1981 to a peak of 5.7% of GDP in 1983, then fell to 2.7% GDP in 1989.[78]\n",
      "Total federal outlays averaged of 21.8% of GDP from 1981–88, versus the 1974–1980 average of 20.1% of GDP. This was the highest of any President from Carter through Obama.[79]\n",
      "Total federal revenues averaged 17.7% of GDP from 1981–88, versus the 1974–80 average of 17.6% of GDP.[80]\n",
      "Federal individual income tax revenues fell from 8.7% of GDP in 1980 to a trough of 7.5% of GDP in 1984, then rose to 7.8% of GDP in 1988.[81]\n",
      "Business and market performance\n",
      "Nominal after-tax corporate profits grew at a compound annual growth rate of 3.0% during Reagan's eight years, compared to 13.0% during the preceding eight years.[82] The S&P 500 Index increased 113.3% during the 2024 trading days under Reagan, compared to 10.4% during the preceding 2024 trading days.[83] The business sector share of GDP, measured as gross private domestic investment, declined by 0.7 percentage points under Reagan, after increasing 0.7 percentage points during the preceding eight years.[84]\n",
      "\n",
      "Size of federal government\n",
      "The federal government's share of GDP increased 0.2 percentage points under Reagan, while it decreased 1.5 percentage points during the preceding eight years.[85] The number of federal civilian employees increased 4.2% during Reagan's eight years, compared to 6.5% during the preceding eight years.[86]\n",
      "\n",
      "As a candidate, Reagan asserted he would shrink government by abolishing the Cabinet-level departments of energy and education. He abolished neither, but elevated veterans affairs from independent agency status to Cabinet-level department status.[87][88]\n",
      "\n",
      "Income distribution\n",
      "Further information: Income inequality in the United States\n",
      "Continuing a trend that began in the 1970s, income inequality grew and accelerated in the 1980s. The Economist wrote in 2006: \"After the 1973 oil shocks, productivity growth suddenly slowed. A few years later, at the start of the 1980s, the gap between rich and poor began to widen.\"[89] According to the CBO:\n",
      "\n",
      "The top 1% of income earners' share of income before transfers and taxes rose from 9.0% in 1979 to a peak of 13.8% in 1986, before falling to 12.3% in 1989.\n",
      "The top 1% share of income earners' of income after transfers and taxes rose from 7.4% in 1979 to a peak of 12.8% in 1986, before falling to 11.0% in 1989.\n",
      "The bottom 90% had a lower share of the income in 1989 vs. 1979.[90]\n",
      "\n",
      "ANALYSIS\n",
      "\n",
      "According to a 1996 study[93] by the Cato Institute, a libertarian think tank, on 8 of the 10 key economic variables examined, the American economy performed better during the Reagan years than during the pre- and post-Reagan years. The study asserted that real median family income grew by $4,000 and during the eight Reagan years and experienced a loss of almost $1,500 in the post-Reagan years. Interest rates, inflation, and unemployment fell faster under Reagan than they did immediately before or after his presidency. The only economic variable that was lower during period than in both the pre- and post-Reagan years was the savings rate, which fell rapidly in the 1980s. The productivity rate was higher in the pre-Reagan years but lower in the post-Reagan years.[93] The Cato study was dismissive of any positive effects of tightening, and subsequent loosening, of Federal Reserve monetary policy under \"inflation hawk\" Paul Volcker, whom President Carter had appointed in 1979 to halt the persistent inflation of the 1970s.\n",
      "\n",
      "Economic analyst Stephen Moore stated in the Cato analysis, \"No act in the last quarter century had a more profound impact on the U.S. economy of the eighties and nineties than the Reagan tax cut of 1981.\" He argued that Reagan's tax cuts, combined with an emphasis on federal monetary policy, deregulation, and expansion of free trade created a sustained economic expansion, the greatest American sustained wave of prosperity ever. He also claims that the American economy grew by more than a third in size, producing a $15 trillion increase in American wealth. Consumer and investor confidence soared. Cutting federal income taxes, cutting the U.S. government spending budget, cutting useless programs, scaling down the government work force, maintaining low interest rates, and keeping a watchful inflation hedge on the monetary supply was Ronald Reagan's formula for a successful economic turnaround.[93]\n",
      "\n",
      "Milton Friedman stated, \"Reaganomics had four simple principles: Lower marginal tax rates, less regulation, restrained government spending, noninflationary monetary policy. Though Reagan did not achieve all of his goals, he made good progress.\"[94]\n",
      "\n",
      "The Tax Reform Act of 1986 and its impact on the alternative minimum tax (AMT) reduced nominal rates on the wealthy and eliminated tax deductions, while raising tax rates on lower-income individuals.[94][95][96][97] The across the board tax system reduced marginal rates and further reduced bracket creep from inflation. The highest income earners (with incomes exceeding $1,000,000) received a tax break, restoring a flatter tax system.[98] In 2006, the IRS's National Taxpayer Advocate's report characterized the effective rise in the AMT for individuals as a problem with the tax code.[99] Through 2007, the revised AMT had brought in more tax revenue than the former tax code, which has made it difficult for Congress to reform.[98][100]\n",
      "\n",
      "Economist Paul Krugman argued the economic expansion during the Reagan administration was primarily the result of the business cycle and the monetary policy by Paul Volcker.[101] Krugman argues that there was nothing unusual about the economy under Reagan because unemployment was reducing from a high peak and that it is consistent with Keynesian economics for the economy to grow as employment increases if inflation remains low.[102]\n",
      "\n",
      "The CBO Historical Tables indicate that federal spending during Reagan's two terms (FY 1981–88) averaged 22.4% GDP, well above the 20.6% GDP average from 1971 to 2009. In addition, the public debt rose from 26.1% GDP in 1980 to 41.0% GDP by 1988. In dollar terms, the public debt rose from $712 billion in 1980 to $2,052 billion in 1988, a three-fold increase.[25] Krugman argued in June 2012 that Reagan's policies were consistent with Keynesian stimulus theories, pointing to the significant increase in per-capita spending under Reagan.[103]\n",
      "\n",
      "William Niskanen noted that during the Reagan years, privately held federal debt increased from 22% to 38% of GDP, despite a long peacetime expansion. Second, the savings and loan problem led to an additional debt of about $125 billion. Third, greater enforcement of U.S. trade laws increased the share of U.S. imports subjected to trade restrictions from 12% in 1980 to 23% in 1988.[2]\n",
      "\n",
      "Economists Raghuram Rajan and Luigi Zingales pointed out that many deregulation efforts had either taken place or had begun before Reagan (note the deregulation of airlines and trucking under Carter, and the beginning of deregulatory reform in railroads, telephones, natural gas, and banking). They stated, \"The move toward markets preceded the leader [Reagan] who is seen as one of their saviors.\"[104] Economists Paul Joskow and Roger Noll made a similar contention.[105]\n",
      "\n",
      "Economist William A. Niskanen, a member of Reagan's Council of Economic Advisers wrote that deregulation had the \"lowest priority\" of the items on the Reagan agenda[2] given that Reagan \"failed to sustain the momentum for deregulation initiated in the 1970s\" and that he \"added more trade barriers than any administration since Hoover.\" By contrast, economist Milton Friedman has pointed to the number of pages added to the Federal Register each year as evidence of Reagan's anti-regulation presidency (the Register records the rules and regulations that federal agencies issue per year). The number of pages added to the Register each year declined sharply at the start of the Ronald Reagan presidency breaking a steady and sharp increase since 1960. The increase in the number of pages added per year resumed an upward, though less steep, trend after Reagan left office. In contrast, the number of pages being added each year increased under Ford, Carter, George H. W. Bush, Clinton, George W. Bush, and Obama.[106] The number of pages in Federal Register is however criticized as an extremely crude measure of regulatory activity, because it can be easily manipulated (e.g. font sizes have been changed to keep page count low).[107] The apparent contradiction between Niskanen's statements and Friedman's data may be resolved by seeing Niskanen as referring to statutory deregulation (laws passed by Congress) and Friedman to administrative deregulation (rules and regulations implemented by federal agencies). A 2016 study by the Congressional Research Service found that Reagan's average annual number of final federal regulatory rules published in the Federal Register was higher than during the Clinton, George W. Bush or Obama's administrations, even though the Reagan economy was considerably smaller than during those later presidents.[108] Another study by the QuantGov project of the libertarian Mercatus Center found that the Reagan administration added restrictive regulations — containing such terms as \"shall,\" \"prohibited\" or \"may not\" — at a faster average annual rate than did Clinton, Bush or Obama.[109]\n",
      "\n",
      "Greg Mankiw, a conservative Republican economist who served as chairman of the Council of Economic Advisors under President George W. Bush, wrote in 2007:\n",
      "\n",
      "I used the phrase \"charlatans and cranks\" in the first edition of my principles textbook to describe some of the economic advisers to Ronald Reagan, who told him that broad-based income tax cuts would have such large supply-side effects that the tax cuts would raise tax revenue. I did not find such a claim credible, based on the available evidence. I never have, and I still don't...My other work has remained consistent with this view. In a paper on dynamic scoring, written while I was working at the White House, Matthew Weinzierl and I estimated that a broad-based income tax cut (applying to both capital and labor income) would recoup only about a quarter of the lost revenue through supply-side growth effects. For a cut in capital income taxes, the feedback is larger — about 50 percent — but still well under 100 percent. A chapter on dynamic scoring in the 2004 Economic Report of the President says about the the [sic] same thing.[110]\n",
      "\n",
      "Glenn Hubbard, who preceded Mankiw as Bush's CEA chair, also disputed the assertion that tax cuts increase tax revenues, writing in his 2003 Economic Report of the President: \"Although the economy grows in response to tax reductions (because of higher consumption in the short run and improved incentives in the long run), it is unlikely to grow so much that lost tax revenue is completely recovered by the higher level of economic activity.\"[111]\n",
      "\n",
      "In 1986, Martin Feldstein — a self-described \"traditional supply sider\" who served as Reagan's chairman of the Council of Economic Advisors from 1982 to 1984 — characterized the \"new supply siders\" who emerged circa 1980:\n",
      "\n",
      "What distinguished the new supply siders from the traditional supply siders as the 1980s began was not the policies they advocated but the claims that they made for those policies...The \"new\" supply siders were much more extravagant in their claims. They projected rapid growth, dramatic increases in tax revenue, a sharp rise in saving, and a relatively painless reduction in inflation. The height of supply side hyperbole was the \"Laffer curve\" proposition that the tax cut would actually increase tax revenue because it would unleash an enormously depressed supply of effort. Another remarkable proposition was the claim that even if the tax cuts did lead to an increased budget deficit, that would not reduce the funds available for investment in plant and equipment because tax changes would raise the saving rate by enough to finance the increased deficit...Nevertheless, I have no doubt that the loose talk of the supply side extremists gave fundamentally good policies a bad name and led to quantitative mistakes that not only contributed to subsequent budget deficits but that also made it more difficult to modify policy when those deficits became apparent.[112]\n",
      "\n",
      "FOOTNOTES\n",
      "\n",
      "https://en.wikipedia.org/wiki/Reaganomics#Footnotes\n",
      "\n"
     ]
    }
   ],
   "source": [
    "L1 = (doc3)\n",
    "print(L1)"
   ]
  },
  {
   "cell_type": "markdown",
   "id": "35ce261f-b274-438f-ba2e-446f17e37e05",
   "metadata": {},
   "source": [
    "STOP WORDS"
   ]
  },
  {
   "cell_type": "code",
   "execution_count": 1,
   "id": "c6f8f26b-af55-4be0-9c1e-33e9e98c943a",
   "metadata": {},
   "outputs": [],
   "source": [
    "import spacy\n",
    "nlp = spacy.load('en_core_web_sm')"
   ]
  },
  {
   "cell_type": "code",
   "execution_count": 2,
   "id": "30e8a573-d035-4b61-88ec-39aba536ca81",
   "metadata": {},
   "outputs": [
    {
     "name": "stdout",
     "output_type": "stream",
     "text": [
      "{'please', 'we', 'amount', 'anywhere', 'must', \"'ll\", 'latter', 'together', 'whole', 'n‘t', 'around', 'may', 'myself', 'sometime', 'these', 'used', 'did', 'keep', 'were', 'wherever', 'formerly', 'whatever', 'fifty', '’d', 'nothing', 'whereas', 'next', 'whereby', 'therefore', 'us', 'during', 'same', 'between', 'last', 'take', 'it', 'namely', 'had', 'over', 'by', '’re', 'one', 'when', 'part', 'since', 'elsewhere', 'several', 'neither', '’m', 'first', 'again', 'has', 'using', 'see', 'always', 'amongst', 'eleven', '’s', 'quite', 'across', 'almost', 'below', 'besides', 'this', 'their', 'the', 'ourselves', 'call', '‘ll', 'alone', 'until', 'therein', 'although', 'rather', 'upon', 'hereupon', 'three', 'seeming', 'latterly', 'might', 'hereafter', 'give', 'say', 'perhaps', 'not', 'becoming', 'enough', 'himself', 'because', 'in', 'sixty', 'also', 'though', '’ve', 'me', 'would', 'otherwise', 'where', 'about', 'here', 'such', 'various', 'however', 'nine', 'him', 'hence', 'for', 'there', 'via', 'n’t', 'meanwhile', 'behind', 'some', 'even', 'other', 'whether', '‘ve', 'mine', 'go', 'made', 'done', 'nor', 'that', 'ten', 'before', 'along', 'seemed', 'thereafter', 'anyway', 'been', 'with', 'yourselves', 'how', 'down', 'never', 'get', 'she', 'thru', 'seem', 'nobody', 'only', 'beforehand', 'front', 'now', 'empty', 'than', 'are', 'five', 'unless', 'well', 'own', 'its', 'out', 'twelve', 'somehow', 'both', 'two', 'once', 'whoever', 'becomes', 'who', 'beyond', 'yet', 'nowhere', 'someone', 'make', 're', 'due', 'everything', 'yourself', 'every', 'full', 'top', 'if', 'afterwards', 'six', 'either', 'being', 'those', 'nevertheless', 'side', 'sometimes', 'within', 'at', 'themselves', 'i', 'then', 'any', 'wherein', 'show', 'hers', 'thereupon', 'ca', 'why', 'already', 'our', 'less', 'am', 'whom', \"'m\", 'whereupon', 'after', 'regarding', 'no', 'forty', 'does', 'whose', '‘d', 'up', 'per', 'be', 'bottom', 'could', \"n't\", 'above', 'another', 'is', 'eight', 'everyone', 'somewhere', 'back', 'a', 'put', 'most', 'cannot', 'into', 'others', 'them', 'my', 'throughout', 'few', 'whence', 'something', 'itself', 'towards', 'an', 'whereafter', 'you', 'indeed', 'just', 'he', 'will', 'while', 'everywhere', 'fifteen', '’ll', 'too', 'much', 'but', 'noone', 'else', 'become', 'from', 'they', 'on', 'ever', 'very', 'beside', 'mostly', 'all', 'as', 'name', 'onto', 'what', 'doing', 'can', 'seems', 'to', 'move', 'thus', 'twenty', 'and', 'except', 'do', 'herself', 'whither', 'toward', 'whenever', 'among', 'ours', 'your', \"'ve\", 'became', 'still', 'hereby', 'serious', 'anyone', 'was', 'none', 'through', 'least', 'more', \"'re\", 'his', 'anyhow', 'or', 'former', '‘s', 'under', 'many', 'herein', 'against', 'off', 'so', 'have', \"'s\", 'of', 'moreover', \"'d\", 'without', '‘m', '‘re', 'hundred', 'each', 'third', 'thereby', 'really', 'anything', 'further', 'often', 'yours', 'should', 'which', 'thence', 'four', 'her'}\n"
     ]
    }
   ],
   "source": [
    "print(nlp.Defaults.stop_words)"
   ]
  },
  {
   "cell_type": "code",
   "execution_count": 3,
   "id": "ba384d74-bcb0-4cfb-8dfa-e2e642bca0ca",
   "metadata": {},
   "outputs": [
    {
     "data": {
      "text/plain": [
       "326"
      ]
     },
     "execution_count": 3,
     "metadata": {},
     "output_type": "execute_result"
    }
   ],
   "source": [
    "len(nlp.Defaults.stop_words)"
   ]
  },
  {
   "cell_type": "code",
   "execution_count": 4,
   "id": "688665a5-f37b-45b3-90b2-0b3e755fdfb8",
   "metadata": {},
   "outputs": [
    {
     "data": {
      "text/plain": [
       "False"
      ]
     },
     "execution_count": 4,
     "metadata": {},
     "output_type": "execute_result"
    }
   ],
   "source": [
    "nlp.vocab['SUMIT'].is_stop"
   ]
  },
  {
   "cell_type": "code",
   "execution_count": 5,
   "id": "afa9f727-6973-452b-b4d1-6e2785fe70bc",
   "metadata": {},
   "outputs": [
    {
     "data": {
      "text/plain": [
       "True"
      ]
     },
     "execution_count": 5,
     "metadata": {},
     "output_type": "execute_result"
    }
   ],
   "source": [
    "nlp.vocab['none'].is_stop"
   ]
  },
  {
   "cell_type": "code",
   "execution_count": 6,
   "id": "bb887d49-4815-4b5b-be57-da46ba9a8bfb",
   "metadata": {},
   "outputs": [],
   "source": [
    "nlp.Defaults.stop_words.remove('should')"
   ]
  },
  {
   "cell_type": "code",
   "execution_count": 7,
   "id": "489b85fc-d2eb-440a-9def-4afd6c92261e",
   "metadata": {},
   "outputs": [
    {
     "data": {
      "text/plain": [
       "325"
      ]
     },
     "execution_count": 7,
     "metadata": {},
     "output_type": "execute_result"
    }
   ],
   "source": [
    "len(nlp.Defaults.stop_words)"
   ]
  },
  {
   "cell_type": "code",
   "execution_count": null,
   "id": "cd980162-87f6-4f91-99da-54958c06fea3",
   "metadata": {},
   "outputs": [],
   "source": []
  },
  {
   "cell_type": "code",
   "execution_count": null,
   "id": "5a98f344-5a49-44d6-bfd2-1fb74bf3011f",
   "metadata": {},
   "outputs": [],
   "source": []
  },
  {
   "cell_type": "code",
   "execution_count": null,
   "id": "c7e2c834-072f-46aa-b755-c504cde0297b",
   "metadata": {},
   "outputs": [],
   "source": []
  },
  {
   "cell_type": "code",
   "execution_count": null,
   "id": "74f543f5-242e-4d4a-bd8c-3bf577b3c272",
   "metadata": {},
   "outputs": [],
   "source": []
  },
  {
   "cell_type": "code",
   "execution_count": null,
   "id": "ee89b7fb-06a2-4eb0-a0a3-a5b0b948c2f9",
   "metadata": {},
   "outputs": [],
   "source": []
  },
  {
   "cell_type": "code",
   "execution_count": null,
   "id": "84616be5-492c-4e7d-9eef-aeb564b5a316",
   "metadata": {},
   "outputs": [],
   "source": []
  }
 ],
 "metadata": {
  "kernelspec": {
   "display_name": "Python 3 (ipykernel)",
   "language": "python",
   "name": "python3"
  },
  "language_info": {
   "codemirror_mode": {
    "name": "ipython",
    "version": 3
   },
   "file_extension": ".py",
   "mimetype": "text/x-python",
   "name": "python",
   "nbconvert_exporter": "python",
   "pygments_lexer": "ipython3",
   "version": "3.12.9"
  }
 },
 "nbformat": 4,
 "nbformat_minor": 5
}
