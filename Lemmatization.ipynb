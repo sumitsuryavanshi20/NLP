{
 "cells": [
  {
   "cell_type": "code",
   "execution_count": 1,
   "id": "40bd19c2-55b4-4d7d-a47b-6983b222c5df",
   "metadata": {},
   "outputs": [],
   "source": [
    "import spacy\n",
    "nlp = spacy.load('en_core_web_sm')"
   ]
  },
  {
   "cell_type": "code",
   "execution_count": 2,
   "id": "5260d0c9-d0ef-4b25-8cec-a022c7c1a12a",
   "metadata": {},
   "outputs": [],
   "source": [
    "doc1 = nlp (u\"I am runner running in a race because I love to run since I ran today\")"
   ]
  },
  {
   "cell_type": "code",
   "execution_count": 3,
   "id": "130db318-2f35-476a-b252-6eb1013970a2",
   "metadata": {},
   "outputs": [
    {
     "name": "stdout",
     "output_type": "stream",
     "text": [
      "I \t PRON \t 4690420944186131903 \t I\n",
      "am \t AUX \t 10382539506755952630 \t am\n",
      "runner \t NOUN \t 12640964157389618806 \t runner\n",
      "running \t VERB \t 12767647472892411841 \t running\n",
      "in \t ADP \t 3002984154512732771 \t in\n",
      "a \t DET \t 11901859001352538922 \t a\n",
      "race \t NOUN \t 8048469955494714898 \t race\n",
      "because \t SCONJ \t 16950148841647037698 \t because\n",
      "I \t PRON \t 4690420944186131903 \t I\n",
      "love \t VERB \t 3702023516439754181 \t love\n",
      "to \t PART \t 3791531372978436496 \t to\n",
      "run \t VERB \t 12767647472892411841 \t run\n",
      "since \t SCONJ \t 10066841407251338481 \t since\n",
      "I \t PRON \t 4690420944186131903 \t I\n",
      "ran \t VERB \t 12767647472892411841 \t ran\n",
      "today \t NOUN \t 11042482332948150395 \t today\n"
     ]
    }
   ],
   "source": [
    "for token in doc1:\n",
    "    print(token.text, '\\t', token.pos_, '\\t', token.lemma, '\\t',token)"
   ]
  },
  {
   "cell_type": "markdown",
   "id": "15c38bf7-3f59-4b41-aa40-e219f43c7069",
   "metadata": {},
   "source": [
    "function to display lemmas \n",
    "Since the display above is staggared and hear to read, let's write function that displays the information we want"
   ]
  },
  {
   "cell_type": "code",
   "execution_count": 14,
   "id": "ff80e99a-41e2-45b6-b6ae-1f7eb36c94be",
   "metadata": {},
   "outputs": [],
   "source": [
    "def show_lemmas(text):\n",
    "    for token in text:\n",
    "        print(f'{token.text:{17}} {token.pos_:{13}} {token.lemma:<{12}} {token.lemma_}')"
   ]
  },
  {
   "cell_type": "code",
   "execution_count": 15,
   "id": "63398b9e-1e67-4743-afa2-343de3c0354a",
   "metadata": {},
   "outputs": [],
   "source": [
    "doc2 = nlp"
   ]
  },
  {
   "cell_type": "code",
   "execution_count": 16,
   "id": "0bb6ba86-08b1-4d8e-afd0-beb1e6f2db9d",
   "metadata": {},
   "outputs": [
    {
     "name": "stdout",
     "output_type": "stream",
     "text": [
      "I                 PRON          4690420944186131903 I\n",
      "am                AUX           10382539506755952630 be\n",
      "meeting           VERB          6880656908171229526 meet\n",
      "him               PRON          1655312771067108281 he\n",
      "tomorrow          NOUN          3573583789758258062 tomorrow\n",
      "at                ADP           11667289587015813222 at\n",
      "the               DET           7425985699627899538 the\n",
      "meeting           NOUN          14798207169164081740 meeting\n",
      ".                 PUNCT         12646065887601541794 .\n"
     ]
    }
   ],
   "source": [
    "doc3 = nlp(u\"I am meeting him tomorrow at the meeting.\")\n",
    "\n",
    "show_lemmas(doc3)"
   ]
  },
  {
   "cell_type": "code",
   "execution_count": 6,
   "id": "81c1b26a-2040-45da-bc93-a1ea83588f2a",
   "metadata": {},
   "outputs": [
    {
     "name": "stdout",
     "output_type": "stream",
     "text": [
      "That         PRON             4380130941430378203    that\n",
      "'s           AUX              10382539506755952630   be\n",
      "an           DET              15099054000809333061   an\n",
      "enormous     ADJ              17917224542039855524   enormous\n",
      "automobile   NOUN             7211811266693931283    automobile\n"
     ]
    }
   ],
   "source": [
    "doc4 = nlp(u\"That's an enormous automobile\")\n",
    "show_lemmas(doc4)"
   ]
  },
  {
   "cell_type": "markdown",
   "id": "d9e4a960-f9e7-46cd-b175-c1c8af651c59",
   "metadata": {},
   "source": [
    "Note that lemmatization "
   ]
  }
 ],
 "metadata": {
  "kernelspec": {
   "display_name": "Python 3 (ipykernel)",
   "language": "python",
   "name": "python3"
  },
  "language_info": {
   "codemirror_mode": {
    "name": "ipython",
    "version": 3
   },
   "file_extension": ".py",
   "mimetype": "text/x-python",
   "name": "python",
   "nbconvert_exporter": "python",
   "pygments_lexer": "ipython3",
   "version": "3.12.9"
  }
 },
 "nbformat": 4,
 "nbformat_minor": 5
}
