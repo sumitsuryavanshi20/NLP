{
 "cells": [
  {
   "cell_type": "code",
   "execution_count": 1,
   "id": "ecfde231-80f4-4ba1-9008-3a2f38521614",
   "metadata": {},
   "outputs": [],
   "source": [
    "#import spacy and load the language library\n",
    "import spacy \n",
    "nlp = spacy.load('en_core_web_sm')"
   ]
  },
  {
   "cell_type": "code",
   "execution_count": 2,
   "id": "1e55f732-33b6-43bb-9f0d-c31551561873",
   "metadata": {},
   "outputs": [
    {
     "name": "stdout",
     "output_type": "stream",
     "text": [
      "\"we're moving to L.A.!\"\n"
     ]
    }
   ],
   "source": [
    "#Created a string that include opening and close quotation marks\n",
    "mystring = '\"we\\'re moving to L.A.!\"'\n",
    "print(mystring)"
   ]
  },
  {
   "cell_type": "code",
   "execution_count": 3,
   "id": "2d868674-5eaa-4621-a022-b4f72c4493de",
   "metadata": {},
   "outputs": [
    {
     "name": "stdout",
     "output_type": "stream",
     "text": [
      "\" | we | 're | moving | to | L.A. | ! | \" | "
     ]
    }
   ],
   "source": [
    "#created s doc object and explore tokens \n",
    "doc = nlp(mystring)\n",
    "for token in doc:\n",
    "    print(token.text, end=' | ')"
   ]
  },
  {
   "cell_type": "code",
   "execution_count": 4,
   "id": "e474675a-3f3f-4a57-b1c4-f82ef35adbcc",
   "metadata": {},
   "outputs": [
    {
     "name": "stdout",
     "output_type": "stream",
     "text": [
      "We\n",
      "'re\n",
      "here\n",
      "to\n",
      "help\n",
      "send\n",
      "snail\n",
      "-\n",
      "mail\n",
      ",\n",
      "email\n",
      "support@oursite.com\n",
      "or\n",
      "visit\n",
      "us\n",
      "at\n",
      "https://wwww.oursite.com\n",
      "!\n"
     ]
    }
   ],
   "source": [
    "doc = nlp(u\"We're here to help send snail-mail, email support@oursite.com or visit us at https://wwww.oursite.com!\")\n",
    "\n",
    "for t in doc:\n",
    "    print(t)"
   ]
  },
  {
   "cell_type": "code",
   "execution_count": 5,
   "id": "cdcd1467-c879-4799-bf9c-db9540ea5c0c",
   "metadata": {},
   "outputs": [
    {
     "name": "stdout",
     "output_type": "stream",
     "text": [
      " \n",
      "A\n",
      "5\n",
      "km\n",
      "NYC\n",
      "cab\n",
      "ride\n",
      "costs\n",
      "$\n",
      "10.30\n"
     ]
    }
   ],
   "source": [
    "doc3 = nlp(u' A 5km NYC cab ride costs $10.30')\n",
    "for t in doc3:\n",
    "    print(t)"
   ]
  },
  {
   "cell_type": "markdown",
   "id": "087840a6-0205-482f-b22b-64251f388249",
   "metadata": {},
   "source": [
    "Exceptions"
   ]
  },
  {
   "cell_type": "code",
   "execution_count": 6,
   "id": "3eae5fee-190e-4ea0-b932-69f15b44c5f4",
   "metadata": {},
   "outputs": [
    {
     "name": "stdout",
     "output_type": "stream",
     "text": [
      "Let\n",
      "'s\n",
      "visit\n",
      "St.\n",
      "Louis\n",
      "in\n",
      "the\n",
      "U.S\n",
      "next\n",
      "year\n",
      ".\n"
     ]
    }
   ],
   "source": [
    "doc4 = nlp(u\"Let's visit St.Louis in the U.S next year.\")\n",
    "for t in doc4:\n",
    "    print(t)"
   ]
  },
  {
   "cell_type": "markdown",
   "id": "8c38565f-0776-4632-85db-4099340d8c82",
   "metadata": {},
   "source": [
    "counting token"
   ]
  },
  {
   "cell_type": "code",
   "execution_count": 7,
   "id": "91c92711-44dd-4b25-9efd-1d7d3d1f421e",
   "metadata": {},
   "outputs": [
    {
     "data": {
      "text/plain": [
       "10"
      ]
     },
     "execution_count": 7,
     "metadata": {},
     "output_type": "execute_result"
    }
   ],
   "source": [
    "len(doc3)"
   ]
  },
  {
   "cell_type": "markdown",
   "id": "2c4f7c28-0e4f-4ec0-b76d-3725b6d5f422",
   "metadata": {},
   "source": [
    "Counting vocab entries"
   ]
  },
  {
   "cell_type": "code",
   "execution_count": 8,
   "id": "2c70c73a-333d-445e-ac89-8b7ee53d6a98",
   "metadata": {},
   "outputs": [
    {
     "data": {
      "text/plain": [
       "794"
      ]
     },
     "execution_count": 8,
     "metadata": {},
     "output_type": "execute_result"
    }
   ],
   "source": [
    "len(doc.vocab)"
   ]
  },
  {
   "cell_type": "markdown",
   "id": "2316375c-00de-4eed-8585-a53828ccd374",
   "metadata": {},
   "source": [
    "Token can be retrieved by index position and slice"
   ]
  },
  {
   "cell_type": "code",
   "execution_count": 9,
   "id": "e28a876c-83d3-44d9-8ba6-6d05bf9f810e",
   "metadata": {},
   "outputs": [
    {
     "data": {
      "text/plain": [
       "better"
      ]
     },
     "execution_count": 9,
     "metadata": {},
     "output_type": "execute_result"
    }
   ],
   "source": [
    "doc5 = nlp (u'It is better to give then to receive.')\n",
    "\n",
    "#Retrieve the third token:\n",
    "doc5[2]"
   ]
  },
  {
   "cell_type": "code",
   "execution_count": 10,
   "id": "db0ea1e8-d8f8-4c5f-9474-42a921b35059",
   "metadata": {},
   "outputs": [
    {
     "data": {
      "text/plain": [
       "better to give"
      ]
     },
     "execution_count": 10,
     "metadata": {},
     "output_type": "execute_result"
    }
   ],
   "source": [
    "#Retrieve three tokens from the middle:\n",
    "doc5[2:5]"
   ]
  },
  {
   "cell_type": "markdown",
   "id": "7785aa2f-c8e9-4ad7-9c57-1ed5f058d91b",
   "metadata": {},
   "source": [
    "Tokens cannot be assigned "
   ]
  },
  {
   "cell_type": "code",
   "execution_count": 11,
   "id": "091ca42f-6cd0-4d43-956d-1868cce50d6e",
   "metadata": {},
   "outputs": [],
   "source": [
    "doc6 = nlp (u' My dinner was horrible.')\n",
    "doc7 = nlp (u' Your dinner was delicious.')"
   ]
  },
  {
   "cell_type": "code",
   "execution_count": 12,
   "id": "5ec25228-5052-495b-8f08-1941261be45a",
   "metadata": {},
   "outputs": [
    {
     "ename": "TypeError",
     "evalue": "'spacy.tokens.doc.Doc' object does not support item assignment",
     "output_type": "error",
     "traceback": [
      "\u001b[1;31m---------------------------------------------------------------------------\u001b[0m",
      "\u001b[1;31mTypeError\u001b[0m                                 Traceback (most recent call last)",
      "Cell \u001b[1;32mIn[12], line 2\u001b[0m\n\u001b[0;32m      1\u001b[0m \u001b[38;5;66;03m#Try to change \"Mydinner was horrible\" to \"My dinner was delicious\"\u001b[39;00m\n\u001b[1;32m----> 2\u001b[0m doc6[\u001b[38;5;241m3\u001b[39m] \u001b[38;5;241m=\u001b[39m doc7[\u001b[38;5;241m3\u001b[39m]\n",
      "\u001b[1;31mTypeError\u001b[0m: 'spacy.tokens.doc.Doc' object does not support item assignment"
     ]
    }
   ],
   "source": [
    "#Try to change \"Mydinner was horrible\" to \"My dinner was delicious\"\n",
    "doc6[3] = doc7[3]\n",
    "#error is valid "
   ]
  },
  {
   "cell_type": "markdown",
   "id": "8529b000-868f-47cc-b839-2752de5c0c0b",
   "metadata": {},
   "source": [
    "Named Entities"
   ]
  },
  {
   "cell_type": "code",
   "execution_count": null,
   "id": "451581dc-c2fc-4579-b551-7f629bd3f5a6",
   "metadata": {},
   "outputs": [],
   "source": [
    "doc8 = nlp(u'Apple to build a Hong Kong factory for $6 million')\n",
    "\n",
    "for token in doc8:\n",
    "    print(token.text, end=' | ')\n",
    "    \n",
    "print('\\n----')\n",
    "\n",
    "for ent in doc8.ents:\n",
    "    print(ent.text+' - '+ent.label_+' - '+str(spacy.explain(ent.label_)))"
   ]
  },
  {
   "cell_type": "markdown",
   "id": "dfb15f4c-6b84-4380-a7f5-350f4e8f2eed",
   "metadata": {},
   "source": [
    "Noun chunks"
   ]
  },
  {
   "cell_type": "code",
   "execution_count": null,
   "id": "6dad2beb-5058-4a78-92ba-9ff0730c56aa",
   "metadata": {},
   "outputs": [],
   "source": [
    "doc9 = nlp(u\"Autonomous cars shift insurance libality toward manufacturers.\")\n",
    "\n",
    "for chunk in doc9.noun_chunks:\n",
    "    print(chunk.text)"
   ]
  },
  {
   "cell_type": "code",
   "execution_count": null,
   "id": "258795e9-6a24-4554-a376-c3caf84e0538",
   "metadata": {},
   "outputs": [],
   "source": [
    "doc10 = nlp(u\"Red cars do not carry higher insurance rates.\")\n",
    "for chunks in doc10.noun_chunks:\n",
    "    print(chunks.text)"
   ]
  },
  {
   "cell_type": "code",
   "execution_count": null,
   "id": "858a0599-0a17-4e04-a545-0461990b51b8",
   "metadata": {},
   "outputs": [],
   "source": [
    "doc11 = nlp(u\"He was a one-eyed, one-horned, flying, purple people-eater.\")\n",
    "for chunk in doc11.noun_chunks:\n",
    "    print(chunk.text)"
   ]
  },
  {
   "cell_type": "markdown",
   "id": "54dd2ee8-4349-42e1-9398-c0195e20ca11",
   "metadata": {},
   "source": [
    "Built-in Visualizers"
   ]
  },
  {
   "cell_type": "markdown",
   "id": "90933892-0461-4093-bc55-2451ca7ee649",
   "metadata": {},
   "source": [
    "Visualizing the dependency parse"
   ]
  },
  {
   "cell_type": "code",
   "execution_count": null,
   "id": "216ef0b1-84b6-4580-839d-4e34fa9b2133",
   "metadata": {},
   "outputs": [],
   "source": [
    "from spacy import displacy\n",
    "doc = nlp(u'Apple is going to build a U.K. factory for $6 million.')\n",
    "displacy.render(doc, style='dep', jupyter=True, options = {'distance':110})"
   ]
  },
  {
   "cell_type": "markdown",
   "id": "46a7ee4d-e3d0-49c4-af32-a95b39481aed",
   "metadata": {},
   "source": [
    "Visualizing the entity recognizer"
   ]
  },
  {
   "cell_type": "code",
   "execution_count": null,
   "id": "bb4e34a7-597f-48e6-90ae-b620d647fce2",
   "metadata": {},
   "outputs": [],
   "source": [
    "(u'Over the last quarter Apple sold nearly 20 "
   ]
  }
 ],
 "metadata": {
  "kernelspec": {
   "display_name": "Python 3 (ipykernel)",
   "language": "python",
   "name": "python3"
  },
  "language_info": {
   "codemirror_mode": {
    "name": "ipython",
    "version": 3
   },
   "file_extension": ".py",
   "mimetype": "text/x-python",
   "name": "python",
   "nbconvert_exporter": "python",
   "pygments_lexer": "ipython3",
   "version": "3.12.9"
  }
 },
 "nbformat": 4,
 "nbformat_minor": 5
}
