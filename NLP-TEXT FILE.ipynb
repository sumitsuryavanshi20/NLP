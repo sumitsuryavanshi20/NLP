{
 "cells": [
  {
   "cell_type": "code",
   "execution_count": 166,
   "id": "e1c15cb8-44d3-4467-9f70-8f4dd7cb3117",
   "metadata": {},
   "outputs": [
    {
     "name": "stdout",
     "output_type": "stream",
     "text": [
      "His name is Fred.\n",
      "His name is Fred.\n"
     ]
    }
   ],
   "source": [
    "name = 'Fred' #variable name\n",
    "\n",
    "print('His name is {var}.'.format(var=name))\n",
    "\n",
    "print(f'His name is {name}.')"
   ]
  },
  {
   "cell_type": "code",
   "execution_count": 167,
   "id": "2a794a2c-f604-4674-b8f8-4dc5ab1316ed",
   "metadata": {},
   "outputs": [
    {
     "name": "stdout",
     "output_type": "stream",
     "text": [
      "Her name is Alice and she is 30 years old.\n",
      "Her name is Alice and she is 30 years old.\n"
     ]
    }
   ],
   "source": [
    "name = \"Alice\"\n",
    "age = 30\n",
    "\n",
    "#using .format() method\n",
    "print(\"Her name is {var} and she is {age} years old.\".format(var=name, age=age))\n",
    "\n",
    "#using f-strings\n",
    "print(f\"Her name is {name} and she is {age} years old.\")"
   ]
  },
  {
   "cell_type": "code",
   "execution_count": 168,
   "id": "bd964864-58f7-44d3-b4d6-f25ad3ab9edd",
   "metadata": {},
   "outputs": [
    {
     "name": "stdout",
     "output_type": "stream",
     "text": [
      "Address: 456 Main Street\n"
     ]
    }
   ],
   "source": [
    "d = {'a': 123, 'b': 456}\n",
    "\n",
    "print(f\"Address: {d['b']} Main Street\")\n"
   ]
  },
  {
   "cell_type": "markdown",
   "id": "bd014c7b-8ef0-4c61-be20-be6e3f52e4d6",
   "metadata": {},
   "source": [
    "Minimum Widths, Alignment and Padding"
   ]
  },
  {
   "cell_type": "code",
   "execution_count": 170,
   "id": "09376d47-d940-4836-8d5d-d76923930931",
   "metadata": {},
   "outputs": [
    {
     "name": "stdout",
     "output_type": "stream",
     "text": [
      "Author     Topic    ..pages\n",
      "Twain      Rafting  ....601\n",
      "Feynman    Physics  .....95\n",
      "Hamilton   Mythology ....144\n"
     ]
    }
   ],
   "source": [
    "library = [('Author', 'Topic', 'pages'), ('Twain','Rafting', 601), ('Feynman','Physics',95),('Hamilton','Mythology',144)]\n",
    "for book in library:\n",
    "    print(f'{book[0]:{10}} {book[1]:{8}} {book[2]:.>{7}}')"
   ]
  },
  {
   "cell_type": "markdown",
   "id": "7b6782e6-65be-4e91-a416-c582ba900650",
   "metadata": {},
   "source": [
    "Date Fromating "
   ]
  },
  {
   "cell_type": "code",
   "execution_count": 172,
   "id": "18417917-d29e-4e6c-8920-f37257c91df0",
   "metadata": {},
   "outputs": [
    {
     "name": "stdout",
     "output_type": "stream",
     "text": [
      "January 27, 2018\n"
     ]
    }
   ],
   "source": [
    "from datetime import datetime\n",
    "today = datetime (year=2018, month=1, day=27)\n",
    "print(f'{today:%B %d, %Y}')"
   ]
  },
  {
   "cell_type": "markdown",
   "id": "940d7555-b8ae-4f2f-8018-49a66058901e",
   "metadata": {},
   "source": [
    "Creating a file with IPython\n",
    "This function is specific to jupyter notebooks! Alternatively, quickly create a simple,txt file with sublime text editor."
   ]
  },
  {
   "cell_type": "code",
   "execution_count": 174,
   "id": "0088d1fc-b9e3-4093-ad66-ced39a7760cd",
   "metadata": {},
   "outputs": [
    {
     "name": "stdout",
     "output_type": "stream",
     "text": [
      "Overwriting test.txt\n"
     ]
    }
   ],
   "source": [
    "%%writefile test.txt\n",
    "Hello, is this a quick test file.\n",
    "This is the second line of the file."
   ]
  },
  {
   "cell_type": "markdown",
   "id": "0e067982-5b09-4fe3-b34b-f7b87efc74b2",
   "metadata": {},
   "source": [
    "Python opening a file"
   ]
  },
  {
   "cell_type": "markdown",
   "id": "52536a70-f57a-427b-9d72-451e24554815",
   "metadata": {},
   "source": [
    "Know Your File's Location"
   ]
  },
  {
   "cell_type": "code",
   "execution_count": 177,
   "id": "e7328adb-941e-4ac8-a0e3-17192d59f67f",
   "metadata": {},
   "outputs": [],
   "source": [
    "my_file = open('test.txt')"
   ]
  },
  {
   "cell_type": "code",
   "execution_count": 178,
   "id": "305faf21-a158-438d-89ae-34a24db4d87b",
   "metadata": {},
   "outputs": [
    {
     "data": {
      "text/plain": [
       "<_io.TextIOWrapper name='test.txt' mode='r' encoding='cp1252'>"
      ]
     },
     "execution_count": 178,
     "metadata": {},
     "output_type": "execute_result"
    }
   ],
   "source": [
    "my_file"
   ]
  },
  {
   "cell_type": "code",
   "execution_count": 179,
   "id": "e7638463-7453-4fe8-a0b3-0ffb45c9f6d1",
   "metadata": {},
   "outputs": [],
   "source": [
    "#Reed(), Seek()"
   ]
  },
  {
   "cell_type": "code",
   "execution_count": 180,
   "id": "7d6afd55-3091-470e-9bc8-610797d7d18f",
   "metadata": {},
   "outputs": [
    {
     "data": {
      "text/plain": [
       "'Hello, is this a quick test file.\\nThis is the second line of the file.\\n'"
      ]
     },
     "execution_count": 180,
     "metadata": {},
     "output_type": "execute_result"
    }
   ],
   "source": [
    "#We can now read this file\n",
    "my_file.read()"
   ]
  },
  {
   "cell_type": "code",
   "execution_count": 181,
   "id": "077bb3e5-dac8-44fe-997d-3c76965cd024",
   "metadata": {},
   "outputs": [
    {
     "data": {
      "text/plain": [
       "''"
      ]
     },
     "execution_count": 181,
     "metadata": {},
     "output_type": "execute_result"
    }
   ],
   "source": [
    "#but what happens if we try to read it again?\n",
    "my_file.read()\n",
    "#This will give output in quotation"
   ]
  },
  {
   "cell_type": "code",
   "execution_count": 182,
   "id": "3954088f-15b6-491f-9428-2c9ec2ce2bd5",
   "metadata": {},
   "outputs": [
    {
     "data": {
      "text/plain": [
       "0"
      ]
     },
     "execution_count": 182,
     "metadata": {},
     "output_type": "execute_result"
    }
   ],
   "source": [
    "#seek to the start of file (index0)\n",
    "my_file.seek(0)"
   ]
  },
  {
   "cell_type": "code",
   "execution_count": 183,
   "id": "d0bb18f2-f8cf-4539-8588-eae2250424bf",
   "metadata": {},
   "outputs": [
    {
     "data": {
      "text/plain": [
       "'Hello, is this a quick test file.\\nThis is the second line of the file.\\n'"
      ]
     },
     "execution_count": 183,
     "metadata": {},
     "output_type": "execute_result"
    }
   ],
   "source": [
    "#Now read again\n",
    "my_file.read()"
   ]
  },
  {
   "cell_type": "code",
   "execution_count": 184,
   "id": "6bff42ab-81ba-4004-a439-4413078043d5",
   "metadata": {},
   "outputs": [
    {
     "data": {
      "text/plain": [
       "['Hello, is this a quick test file.\\n',\n",
       " 'This is the second line of the file.\\n']"
      ]
     },
     "execution_count": 184,
     "metadata": {},
     "output_type": "execute_result"
    }
   ],
   "source": [
    "#Readlines()\n",
    "#Readlines returns a list of the lines in the files.\n",
    "my_file.seek(0)\n",
    "my_file.readlines()"
   ]
  },
  {
   "cell_type": "code",
   "execution_count": 185,
   "id": "aaa46bd4-848b-41b9-9449-70d33cac91ae",
   "metadata": {},
   "outputs": [],
   "source": [
    "#When you have finished using a file, it is always good practice to close it.\n",
    "my_file.close()"
   ]
  },
  {
   "cell_type": "code",
   "execution_count": 186,
   "id": "d62a003f-5607-41d2-a0cb-691260f80510",
   "metadata": {},
   "outputs": [],
   "source": [
    "#Writing to a file\n",
    "#The open() function will only allow us to read the file. we need to pass the argument 'w+' lets us read and write over the file."
   ]
  },
  {
   "cell_type": "code",
   "execution_count": 187,
   "id": "6690f105-79ac-45e0-a525-843a7fe3f429",
   "metadata": {},
   "outputs": [],
   "source": [
    "#Add a second argument to the function, 'w' which stands for write.\n",
    "#Passing 'w+' lets us read and write to the file.\n",
    "\n",
    "my_file = open('test.txt','w+')"
   ]
  },
  {
   "cell_type": "code",
   "execution_count": 188,
   "id": "10bfb637-8ae5-4efc-8a8a-08962b2621ae",
   "metadata": {},
   "outputs": [
    {
     "data": {
      "text/plain": [
       "24"
      ]
     },
     "execution_count": 188,
     "metadata": {},
     "output_type": "execute_result"
    }
   ],
   "source": [
    "#write to the file \n",
    "my_file.write('This is a new first line')"
   ]
  },
  {
   "cell_type": "code",
   "execution_count": 189,
   "id": "7cac1e50-99f2-41f1-9e32-be2bff213acc",
   "metadata": {},
   "outputs": [
    {
     "data": {
      "text/plain": [
       "'This is a new first line'"
      ]
     },
     "execution_count": 189,
     "metadata": {},
     "output_type": "execute_result"
    }
   ],
   "source": [
    "#Read the file\n",
    "my_file.seek(0)\n",
    "my_file.read()"
   ]
  },
  {
   "cell_type": "code",
   "execution_count": 190,
   "id": "3daef640-8a07-4ea3-b250-bc25d2f96505",
   "metadata": {},
   "outputs": [],
   "source": [
    "my_file.close() #always do this when you're done with a file"
   ]
  },
  {
   "cell_type": "code",
   "execution_count": 191,
   "id": "dfe62ddb-96ed-4e2b-8d03-6c61ccf2881a",
   "metadata": {},
   "outputs": [],
   "source": [
    "#Appending to file "
   ]
  },
  {
   "cell_type": "code",
   "execution_count": 192,
   "id": "69c30169-cf16-4b57-b204-e1aad1f1a077",
   "metadata": {},
   "outputs": [
    {
     "data": {
      "text/plain": [
       "40"
      ]
     },
     "execution_count": 192,
     "metadata": {},
     "output_type": "execute_result"
    }
   ],
   "source": [
    "my_file = open('test.txt','a+')\n",
    "my_file.write('\\nThis line is being appended to test.txt')"
   ]
  },
  {
   "cell_type": "code",
   "execution_count": 193,
   "id": "65da2788-7d01-47c2-b0e2-1ac9a332cd21",
   "metadata": {},
   "outputs": [
    {
     "name": "stdout",
     "output_type": "stream",
     "text": [
      "This is a new first line\n",
      "This line is being appended to test.txt\n"
     ]
    }
   ],
   "source": [
    "my_file.seek(0)\n",
    "print(my_file.read())"
   ]
  },
  {
   "cell_type": "code",
   "execution_count": 194,
   "id": "19783f0a-1c35-4942-86ff-025f01545e1d",
   "metadata": {},
   "outputs": [],
   "source": [
    "my_file.close()"
   ]
  },
  {
   "cell_type": "code",
   "execution_count": 195,
   "id": "d3b388cd-3939-4edb-a5b1-4abe1e3b077b",
   "metadata": {},
   "outputs": [],
   "source": [
    "#Appending with %%writefile"
   ]
  },
  {
   "cell_type": "code",
   "execution_count": 196,
   "id": "95c71696-cb32-4db6-84af-53fa8a3ee810",
   "metadata": {},
   "outputs": [
    {
     "name": "stdout",
     "output_type": "stream",
     "text": [
      "Appending to test.txt\n"
     ]
    }
   ],
   "source": [
    "%%writefile -a test.txt\n",
    "This is more text being appended to test.txt\n",
    "and another line here."
   ]
  },
  {
   "cell_type": "markdown",
   "id": "dd55b0eb-72ae-4e8e-99cf-0387b0f4b7a6",
   "metadata": {},
   "source": [
    "REGULAR EXPRESSIONS"
   ]
  },
  {
   "cell_type": "markdown",
   "id": "c4fb439b-d06f-4f90-a6d1-0ede9ee3539c",
   "metadata": {},
   "source": [
    "Searching for basic patterns\n",
    "Let's imagine that we have the following string:"
   ]
  },
  {
   "cell_type": "code",
   "execution_count": 199,
   "id": "8cb18ec1-fcdb-4d44-81a5-c924ced7d4b7",
   "metadata": {},
   "outputs": [],
   "source": [
    "text = \"The agents's phone number is 408-555-1234. call soon!\""
   ]
  },
  {
   "cell_type": "code",
   "execution_count": 200,
   "id": "0221b89d-1680-4c38-99b4-f05a92f8bf81",
   "metadata": {},
   "outputs": [
    {
     "data": {
      "text/plain": [
       "True"
      ]
     },
     "execution_count": 200,
     "metadata": {},
     "output_type": "execute_result"
    }
   ],
   "source": [
    "'phone' in text"
   ]
  },
  {
   "cell_type": "code",
   "execution_count": 201,
   "id": "7fba65e3-2c79-4f90-b0ff-30ab2fafab0b",
   "metadata": {},
   "outputs": [],
   "source": [
    "import re #import Regular expressions"
   ]
  },
  {
   "cell_type": "code",
   "execution_count": 202,
   "id": "912273f8-2e2d-4777-b556-9649681130e5",
   "metadata": {},
   "outputs": [],
   "source": [
    "pattern = 'phone'"
   ]
  },
  {
   "cell_type": "code",
   "execution_count": 203,
   "id": "acbcf4b7-4425-4fbf-bb1e-e11dd3f92966",
   "metadata": {},
   "outputs": [
    {
     "data": {
      "text/plain": [
       "<re.Match object; span=(13, 18), match='phone'>"
      ]
     },
     "execution_count": 203,
     "metadata": {},
     "output_type": "execute_result"
    }
   ],
   "source": [
    "re.search(pattern,text) #it tells index number excluding end num."
   ]
  },
  {
   "cell_type": "code",
   "execution_count": 204,
   "id": "56a8e353-ed8c-4ecf-ba97-d9f5ed6b20ed",
   "metadata": {},
   "outputs": [],
   "source": [
    "pattern = \"NOT IN TEXT\""
   ]
  },
  {
   "cell_type": "code",
   "execution_count": 205,
   "id": "f2147f05-ec57-449c-8820-ab94abf38db8",
   "metadata": {},
   "outputs": [],
   "source": [
    "re.search(pattern,text)"
   ]
  },
  {
   "cell_type": "code",
   "execution_count": 206,
   "id": "4e55cb13-c351-49ed-bcd0-6d6d8997551e",
   "metadata": {},
   "outputs": [],
   "source": [
    "#Notice the span, there is also a start and end index information."
   ]
  },
  {
   "cell_type": "code",
   "execution_count": 207,
   "id": "391b60b7-2f6b-4923-860b-51ffd53ae285",
   "metadata": {},
   "outputs": [],
   "source": [
    "pattern = 'phone'"
   ]
  },
  {
   "cell_type": "code",
   "execution_count": 208,
   "id": "c9c68f77-ad09-44d8-be2d-964fcb4227e7",
   "metadata": {},
   "outputs": [],
   "source": [
    "match = re.search(pattern,text)"
   ]
  },
  {
   "cell_type": "code",
   "execution_count": 209,
   "id": "5ff658e9-20dd-4ba8-a5b7-22d5aa7f72f5",
   "metadata": {},
   "outputs": [
    {
     "data": {
      "text/plain": [
       "<re.Match object; span=(13, 18), match='phone'>"
      ]
     },
     "execution_count": 209,
     "metadata": {},
     "output_type": "execute_result"
    }
   ],
   "source": [
    "match"
   ]
  },
  {
   "cell_type": "code",
   "execution_count": 210,
   "id": "4bde924e-46db-4e2d-a758-37e9c9e27d59",
   "metadata": {},
   "outputs": [
    {
     "data": {
      "text/plain": [
       "(13, 18)"
      ]
     },
     "execution_count": 210,
     "metadata": {},
     "output_type": "execute_result"
    }
   ],
   "source": [
    "match.span()"
   ]
  },
  {
   "cell_type": "code",
   "execution_count": 211,
   "id": "7e22806c-3e38-4125-b1ed-eb7b37120cd4",
   "metadata": {},
   "outputs": [
    {
     "data": {
      "text/plain": [
       "13"
      ]
     },
     "execution_count": 211,
     "metadata": {},
     "output_type": "execute_result"
    }
   ],
   "source": [
    "match.start()"
   ]
  },
  {
   "cell_type": "code",
   "execution_count": 212,
   "id": "0ee67837-4a16-453a-86d1-09b07852ad22",
   "metadata": {},
   "outputs": [
    {
     "data": {
      "text/plain": [
       "18"
      ]
     },
     "execution_count": 212,
     "metadata": {},
     "output_type": "execute_result"
    }
   ],
   "source": [
    "match.end()"
   ]
  },
  {
   "cell_type": "markdown",
   "id": "c13d77fd-2627-4974-97a7-5138b4d78846",
   "metadata": {},
   "source": [
    "But what if the pattern occurs more than once?"
   ]
  },
  {
   "cell_type": "code",
   "execution_count": 214,
   "id": "683aae6d-23ba-4ec6-99ca-7f670bf8227d",
   "metadata": {},
   "outputs": [],
   "source": [
    "text = \"my phone is a new phone\""
   ]
  },
  {
   "cell_type": "code",
   "execution_count": 215,
   "id": "cb7ea0a5-95da-4b11-b050-601a68a092c3",
   "metadata": {},
   "outputs": [],
   "source": [
    "match = re.search(\"phone\",text)"
   ]
  },
  {
   "cell_type": "code",
   "execution_count": 216,
   "id": "f23856cd-7983-483d-8add-45e989891193",
   "metadata": {},
   "outputs": [
    {
     "data": {
      "text/plain": [
       "(3, 8)"
      ]
     },
     "execution_count": 216,
     "metadata": {},
     "output_type": "execute_result"
    }
   ],
   "source": [
    "match.span()"
   ]
  },
  {
   "cell_type": "code",
   "execution_count": 217,
   "id": "aea79c97-ce90-47aa-a5ef-2c8c620bf93a",
   "metadata": {},
   "outputs": [
    {
     "name": "stdout",
     "output_type": "stream",
     "text": [
      "Keyword found!\n"
     ]
    }
   ],
   "source": [
    "import re\n",
    "\n",
    "text = \"Machine learning is a part of artificial intelligence.\"\n",
    "match = re.search(r'artificial', text)\n",
    "\n",
    "if match:\n",
    "    print(\"Keyword found!\")\n",
    "else:\n",
    "    print(\"Keyword not found.\")\n"
   ]
  },
  {
   "cell_type": "code",
   "execution_count": 218,
   "id": "9becf754-37e6-4e09-83a3-c78c118fe9a4",
   "metadata": {},
   "outputs": [],
   "source": [
    "#re.search() → Finds only one match.\n",
    "\n",
    "#re.findall() → Finds all matches and gives them in a list."
   ]
  },
  {
   "cell_type": "code",
   "execution_count": 219,
   "id": "24fe1bf7-170a-4d29-92cc-35077fd44055",
   "metadata": {},
   "outputs": [],
   "source": [
    "match = re.findall(\"phone\",text)"
   ]
  },
  {
   "cell_type": "code",
   "execution_count": 220,
   "id": "a62b5cb2-e0f1-4e89-897a-0f110a5f002e",
   "metadata": {},
   "outputs": [
    {
     "data": {
      "text/plain": [
       "[]"
      ]
     },
     "execution_count": 220,
     "metadata": {},
     "output_type": "execute_result"
    }
   ],
   "source": [
    "match"
   ]
  },
  {
   "cell_type": "code",
   "execution_count": 268,
   "id": "778f3c2c-bed2-4004-b8e8-1586d66f6a4b",
   "metadata": {},
   "outputs": [
    {
     "data": {
      "text/plain": [
       "0"
      ]
     },
     "execution_count": 268,
     "metadata": {},
     "output_type": "execute_result"
    }
   ],
   "source": [
    "len(match)"
   ]
  },
  {
   "cell_type": "markdown",
   "id": "68012011-ca43-491e-8b89-ee88a25dc6ad",
   "metadata": {},
   "source": [
    "PATTERNS"
   ]
  },
  {
   "cell_type": "code",
   "execution_count": null,
   "id": "bf45c335-00e4-47e7-84bf-e3058beaeddf",
   "metadata": {},
   "outputs": [],
   "source": [
    "text = \"My telepone number is 8178-39-4805\""
   ]
  },
  {
   "cell_type": "code",
   "execution_count": 270,
   "id": "ac39edb6-96d5-4f08-a6e4-9a872ee1f3c9",
   "metadata": {},
   "outputs": [],
   "source": [
    "phone= re.search(r'\\d\\d\\d\\d\\-\\d\\d-\\d\\d\\d\\d',text)"
   ]
  },
  {
   "cell_type": "code",
   "execution_count": 276,
   "id": "0f68f3b8-d9c2-4751-b487-682be1de708b",
   "metadata": {},
   "outputs": [],
   "source": [
    "phone"
   ]
  },
  {
   "cell_type": "markdown",
   "id": "7b1869df-00c5-433d-bd9c-ae10964faf63",
   "metadata": {},
   "source": [
    "Python text basic assessment - solutions \n",
    "f-strings \n",
    "print an f-string that displays NLP stands for natural language processing using the variable provided."
   ]
  },
  {
   "cell_type": "code",
   "execution_count": null,
   "id": "3f3189fc-6e77-47cb-a466-26033df22787",
   "metadata": {},
   "outputs": [],
   "source": []
  }
 ],
 "metadata": {
  "kernelspec": {
   "display_name": "Python [conda env:base] *",
   "language": "python",
   "name": "conda-base-py"
  },
  "language_info": {
   "codemirror_mode": {
    "name": "ipython",
    "version": 3
   },
   "file_extension": ".py",
   "mimetype": "text/x-python",
   "name": "python",
   "nbconvert_exporter": "python",
   "pygments_lexer": "ipython3",
   "version": "3.12.7"
  }
 },
 "nbformat": 4,
 "nbformat_minor": 5
}
