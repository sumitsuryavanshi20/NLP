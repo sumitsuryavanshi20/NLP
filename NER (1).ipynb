{
 "cells": [
  {
   "cell_type": "markdown",
   "id": "69d4db91-ff1e-45cb-ab82-169b4bdc32e5",
   "metadata": {},
   "source": [
    "Named Entity Recognition (NER)"
   ]
  },
  {
   "cell_type": "code",
   "execution_count": 2,
   "id": "47b18ef3-3917-4469-9c9c-d06bd2c7df6a",
   "metadata": {},
   "outputs": [],
   "source": [
    "#Perform standard imports\n",
    "import spacy\n",
    "nlp = spacy.load('en_core_web_sm')"
   ]
  },
  {
   "cell_type": "code",
   "execution_count": 3,
   "id": "b4b90471-f95e-4205-aa4e-6dbdaa58cf90",
   "metadata": {},
   "outputs": [],
   "source": [
    "#Write a function to display basic entity info:\n",
    "def show_ents(doc):\n",
    "    if doc.ents:\n",
    "        for ent in doc.ents:\n",
    "            print(ent.text+' - '+ent.label_+' - '+str(spacy.explain(ent.label_)))\n",
    "    else:\n",
    "        print('No named entities found.')"
   ]
  },
  {
   "cell_type": "code",
   "execution_count": 4,
   "id": "25f8ff24-6bea-4faf-ba94-516e165b8036",
   "metadata": {},
   "outputs": [
    {
     "name": "stdout",
     "output_type": "stream",
     "text": [
      "Washington, DC - GPE - Countries, cities, states\n",
      "next May - DATE - Absolute or relative dates or periods\n",
      "the Washington Monument - ORG - Companies, agencies, institutions, etc.\n"
     ]
    }
   ],
   "source": [
    "doc = nlp(u'May I go to Washington, DC next May to see the Washington Monument?')\n",
    "show_ents(doc)"
   ]
  },
  {
   "cell_type": "code",
   "execution_count": 5,
   "id": "9931acdd-fbf0-4349-8efd-ce3329fd46e0",
   "metadata": {},
   "outputs": [
    {
     "name": "stdout",
     "output_type": "stream",
     "text": [
      "500 dollars 4 6 20 31 MONEY\n",
      "Microsoft 11 12 53 62 ORG\n"
     ]
    }
   ],
   "source": [
    "doc = nlp(u'can I please borrow 500 dollars from you to buy some Microsoft stock?')\n",
    "\n",
    "for ent in doc.ents:\n",
    "    print(ent.text, ent.start, ent.end, ent.start_char, ent.end_char, ent.label_)"
   ]
  },
  {
   "cell_type": "code",
   "execution_count": 6,
   "id": "4ed96559-7cc2-41e3-b009-993205f3d898",
   "metadata": {},
   "outputs": [
    {
     "name": "stdout",
     "output_type": "stream",
     "text": [
      "['can', 'I', 'please', 'borrow', '500', 'dollars', 'from', 'you', 'to', 'buy', 'some', 'Microsoft', 'stock', '?']\n"
     ]
    }
   ],
   "source": [
    "tokens = [token.text for token in doc]\n",
    "print(tokens)"
   ]
  },
  {
   "cell_type": "markdown",
   "id": "1ba6ca0c-6d0b-4116-a7e6-992b079e58c7",
   "metadata": {},
   "source": [
    "NER Tags\n",
    "Tags are accessible through the .label_ property of an entity."
   ]
  },
  {
   "cell_type": "code",
   "execution_count": null,
   "id": "a47bced5-cd70-4b45-affd-08518f8d55e1",
   "metadata": {},
   "outputs": [],
   "source": []
  },
  {
   "cell_type": "code",
   "execution_count": 7,
   "id": "52b35650-0aea-40ee-a24e-6ecf75235f4d",
   "metadata": {},
   "outputs": [
    {
     "name": "stdout",
     "output_type": "stream",
     "text": [
      "U.K - ORG - Companies, agencies, institutions, etc.\n",
      "$6 million - MONEY - Monetary values, including unit\n"
     ]
    }
   ],
   "source": [
    "doc = nlp(u'Tesla to build a U.K factory for $6 million')\n",
    "\n",
    "show_ents(doc)"
   ]
  },
  {
   "cell_type": "markdown",
   "id": "19631317-ecfb-4adc-ace3-80e7ce525955",
   "metadata": {},
   "source": [
    "Right now, spaCy does not recognize \"Tesla\" as a company."
   ]
  },
  {
   "cell_type": "code",
   "execution_count": 8,
   "id": "b2ff5593-3b03-49b7-9aad-3f683659b205",
   "metadata": {},
   "outputs": [],
   "source": [
    "from spacy.tokens import Span\n",
    "\n",
    "# Get th hash value of the ORG entity label\n",
    "ORG = doc.vocab.strings[u'ORG']\n",
    "\n",
    "# Create a span for the new entity\n",
    "new_ent = Span(doc, 0, 1, label=ORG)\n",
    "\n",
    "#Add the entity to the existing Doc object\n",
    "doc.ents = list(doc.ents) + [new_ent]"
   ]
  },
  {
   "cell_type": "markdown",
   "id": "c227f709-b357-4ebc-b3c6-772ff16d28a6",
   "metadata": {},
   "source": [
    "In the code above, the arguments passsed to span() are:"
   ]
  },
  {
   "cell_type": "code",
   "execution_count": 9,
   "id": "5732fdcc-926c-4614-88ea-55bd9ce69777",
   "metadata": {},
   "outputs": [
    {
     "name": "stdout",
     "output_type": "stream",
     "text": [
      "Tesla - ORG - Companies, agencies, institutions, etc.\n",
      "U.K - ORG - Companies, agencies, institutions, etc.\n",
      "$6 million - MONEY - Monetary values, including unit\n"
     ]
    }
   ],
   "source": [
    "show_ents(doc)"
   ]
  },
  {
   "cell_type": "code",
   "execution_count": 10,
   "id": "5d1baf24-627c-45ee-b7b0-0d6484d57089",
   "metadata": {},
   "outputs": [],
   "source": [
    "#Adding Named entities to all Matching Spans\n",
    "#what if we want to tag all occurrrences of \"tesla\"? In  this section we show how to use the PhraseMatcher to identify a series of spans in this Doc:"
   ]
  },
  {
   "cell_type": "code",
   "execution_count": 11,
   "id": "d5ddb6cf-2b50-48ab-91ca-d605f99da221",
   "metadata": {},
   "outputs": [
    {
     "name": "stdout",
     "output_type": "stream",
     "text": [
      "first - ORDINAL - \"first\", \"second\", etc.\n"
     ]
    }
   ],
   "source": [
    "doc = nlp(u'Our company plans to introduce a new vacuum cleaner.'\n",
    "          u'If successful, the vacuum-cleaner will be our first product.')\n",
    "\n",
    "show_ents(doc)"
   ]
  },
  {
   "cell_type": "code",
   "execution_count": 12,
   "id": "4f8926c4-5fd8-4fc7-a74f-e5435f7e7923",
   "metadata": {},
   "outputs": [],
   "source": [
    "#Import PhraseMatcher and create a matcher object:\n",
    "from spacy.matcher import PhraseMatcher\n",
    "matcher = PhraseMatcher(nlp.vocab)"
   ]
  },
  {
   "cell_type": "code",
   "execution_count": 13,
   "id": "48463bbf-3e98-4ac2-8d82-6f70a4578a61",
   "metadata": {},
   "outputs": [],
   "source": [
    "#Create the desired phrase patterns:\n",
    "phrase_list = ['vacuum cleaner', 'vacuum-cleaner']\n",
    "phrase_patterns = [nlp(text) for text in phrase_list] "
   ]
  },
  {
   "cell_type": "code",
   "execution_count": 14,
   "id": "032fe4a7-f407-44cb-8bca-2475deb1d335",
   "metadata": {},
   "outputs": [
    {
     "data": {
      "text/plain": [
       "[(2689272359382549672, 7, 9), (2689272359382549672, 14, 17)]"
      ]
     },
     "execution_count": 14,
     "metadata": {},
     "output_type": "execute_result"
    }
   ],
   "source": [
    "#Apply the patterns to our matcher object:\n",
    "matcher.add('newproduct', None, *phrase_patterns)\n",
    "\n",
    "#apply the matcher to our doc object:\n",
    "matches = matcher(doc)\n",
    "\n",
    "#See what matches occur:\n",
    "matches"
   ]
  },
  {
   "cell_type": "code",
   "execution_count": 15,
   "id": "a5c5104e-6e01-4504-b622-3afacba7335e",
   "metadata": {},
   "outputs": [],
   "source": [
    "#Here we create spans from each match, and create named entities from them:\n",
    "from spacy.tokens import Span\n",
    "\n",
    "PROD = doc.vocab.strings [u'PRODUCT']\n",
    "\n",
    "new_ents = [Span(doc, match[1],match[2],label=PROD) for match in matches]\n",
    "\n",
    "doc.ents = list(doc.ents) + new_ents"
   ]
  },
  {
   "cell_type": "code",
   "execution_count": 16,
   "id": "d3e7acab-4466-4057-92fe-155a4a2b7b60",
   "metadata": {},
   "outputs": [
    {
     "name": "stdout",
     "output_type": "stream",
     "text": [
      "vacuum cleaner - PRODUCT - Objects, vehicles, foods, etc. (not services)\n",
      "vacuum-cleaner - PRODUCT - Objects, vehicles, foods, etc. (not services)\n",
      "first - ORDINAL - \"first\", \"second\", etc.\n"
     ]
    }
   ],
   "source": [
    "show_ents(doc)"
   ]
  },
  {
   "cell_type": "code",
   "execution_count": 17,
   "id": "0bcb8ffe-8acd-4ffb-97d1-cdf986434b77",
   "metadata": {},
   "outputs": [],
   "source": [
    "#Counting Entities\n",
    "#While spaCy may not have a built-in tool for counting entities, we can pass a conditional statement into a list comprehension:"
   ]
  },
  {
   "cell_type": "code",
   "execution_count": 18,
   "id": "9958c0e6-985c-47ca-bf63-41328b9f7f10",
   "metadata": {},
   "outputs": [
    {
     "name": "stdout",
     "output_type": "stream",
     "text": [
      "29.50 - MONEY - Monetary values, including unit\n",
      "five dollars - MONEY - Monetary values, including unit\n"
     ]
    }
   ],
   "source": [
    "doc = nlp(u'Originally priced at $29.50, the sweater was marked down to five dollars.')\n",
    "show_ents(doc)"
   ]
  },
  {
   "cell_type": "code",
   "execution_count": 19,
   "id": "24200e91-eb87-471c-970f-34a70330cb09",
   "metadata": {},
   "outputs": [
    {
     "data": {
      "text/plain": [
       "0"
      ]
     },
     "execution_count": 19,
     "metadata": {},
     "output_type": "execute_result"
    }
   ],
   "source": [
    "len([ent for ent in doc.ents if ent.label =='MONEY'])"
   ]
  },
  {
   "cell_type": "markdown",
   "id": "35a4fd39-a272-4a04-8724-7720b9746ab7",
   "metadata": {},
   "source": [
    "Problem With line Breaks"
   ]
  },
  {
   "cell_type": "code",
   "execution_count": 21,
   "id": "ccb523f2-6da3-4ef2-b4ab-1a32a51c235d",
   "metadata": {},
   "outputs": [
    {
     "name": "stdout",
     "output_type": "stream",
     "text": [
      "29.50 - MONEY - Monetary values, including unit\n",
      "five dollars - MONEY - Monetary values, including unit\n"
     ]
    }
   ],
   "source": [
    "doc = nlp(u'Originally priced at $29.50,\\nthe swaeter was marked down to five dollars.')\n",
    "show_ents(doc)"
   ]
  },
  {
   "cell_type": "code",
   "execution_count": null,
   "id": "5d9b9e95-1a53-4f43-8f55-97746c71bf77",
   "metadata": {},
   "outputs": [],
   "source": [
    "#noun_chunks components:\n",
    " #'text' The original noun chunk text.\n",
    " #'root.text' The original text of the word connecting the noun chunk to the rest of the parse.\n",
    " #'root.dep_' Dependency relation connecting the root to its head.\n",
    " #'root.head.text' The text of the root token's head."
   ]
  },
  {
   "cell_type": "code",
   "execution_count": 23,
   "id": "82dd5b1f-7109-4eef-9759-9d7234b7a8bc",
   "metadata": {},
   "outputs": [
    {
     "name": "stdout",
     "output_type": "stream",
     "text": [
      "Autonomous cars - cars - nsubj - shift\n",
      "insurance lability - lability - dobj - shift\n",
      "manufacturers - manufacturers - pobj - toward\n"
     ]
    }
   ],
   "source": [
    "doc = nlp(u\"Autonomous cars shift insurance lability toward manufacturers.\")\n",
    "for chunk in doc.noun_chunks:\n",
    "    print(chunk.text+' - '+chunk.root.text+' - '+chunk.root.dep_+' - '+chunk.root.head.text)"
   ]
  },
  {
   "cell_type": "code",
   "execution_count": 24,
   "id": "433b2ee7-2314-4eb0-8c50-045481583da5",
   "metadata": {},
   "outputs": [
    {
     "ename": "TypeError",
     "evalue": "object of type 'generator' has no len()",
     "output_type": "error",
     "traceback": [
      "\u001b[1;31m---------------------------------------------------------------------------\u001b[0m",
      "\u001b[1;31mTypeError\u001b[0m                                 Traceback (most recent call last)",
      "Cell \u001b[1;32mIn[24], line 1\u001b[0m\n\u001b[1;32m----> 1\u001b[0m \u001b[38;5;28mlen\u001b[39m(doc\u001b[38;5;241m.\u001b[39mnoun_chunks)\n",
      "\u001b[1;31mTypeError\u001b[0m: object of type 'generator' has no len()"
     ]
    }
   ],
   "source": [
    "len(doc.noun_chunks)#there is diffrent way to chekc"
   ]
  },
  {
   "cell_type": "code",
   "execution_count": 26,
   "id": "b2646ab7-6f2b-4c33-b23a-7c7133478dab",
   "metadata": {},
   "outputs": [
    {
     "data": {
      "text/plain": [
       "3"
      ]
     },
     "execution_count": 26,
     "metadata": {},
     "output_type": "execute_result"
    }
   ],
   "source": [
    "len(list(doc.noun_chunks))"
   ]
  }
 ],
 "metadata": {
  "kernelspec": {
   "display_name": "Python 3 (ipykernel)",
   "language": "python",
   "name": "python3"
  },
  "language_info": {
   "codemirror_mode": {
    "name": "ipython",
    "version": 3
   },
   "file_extension": ".py",
   "mimetype": "text/x-python",
   "name": "python",
   "nbconvert_exporter": "python",
   "pygments_lexer": "ipython3",
   "version": "3.12.9"
  }
 },
 "nbformat": 4,
 "nbformat_minor": 5
}
